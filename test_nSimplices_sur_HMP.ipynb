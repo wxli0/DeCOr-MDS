{
 "cells": [
  {
   "cell_type": "code",
   "execution_count": 1,
   "metadata": {},
   "outputs": [],
   "source": [
    "\"\"\"\n",
    "nSimplices on toy example\n",
    "\"\"\"\n",
    "import math\n",
    "import numpy as np\n",
    "import matplotlib.pyplot as plt\n",
    "import os\n",
    "import random as alea\n",
    "from scipy.linalg import solve,pinv,pinv2\n",
    "from scipy.spatial.distance import pdist, squareform\n",
    "import pandas as pd\n",
    "from sklearn.decomposition import PCA\n",
    "import time"
   ]
  },
  {
   "cell_type": "code",
   "execution_count": 21,
   "metadata": {},
   "outputs": [],
   "source": [
    "# Librairie nSimplices courante\n",
    "exec(compile(open(r\"nSimplices_final.py\", encoding=\"utf8\").read(), \"nSimplices_new.py\", 'exec'))\n",
    "#execfile(\"/path-to-code/2021-04-01_nSimplices-lib.py\")\n",
    "\n",
    "# set matplotlib default savefig directory\n",
    "#os.chdir(\"/data/user/my-directory/\")\n",
    "plt.rcParams[\"savefig.directory\"] = os.getcwd() # To save figures to directory\n",
    "                                                #   defined above"
   ]
  },
  {
   "cell_type": "code",
   "execution_count": 22,
   "metadata": {},
   "outputs": [
    {
     "data": {
      "text/plain": [
       "(2255, 3)"
      ]
     },
     "execution_count": 22,
     "metadata": {},
     "output_type": "execute_result"
    }
   ],
   "source": [
    "### test data\n",
    "\n",
    "\n",
    "data = pd.read_csv(r'datasets/Hmp_v13_lq/v13lqphylotypeQuantE.csv', sep=',',header=None,usecols=np.array(range(0,3)))\n",
    "data.head()\n",
    "data.shape\n",
    "#df.sample(frac = 0.1)"
   ]
  },
  {
   "cell_type": "code",
   "execution_count": 23,
   "metadata": {},
   "outputs": [],
   "source": [
    "### Traitement du fichier\n",
    "\n",
    "y=pd.read_csv(r'datasets/Hmp_v13_lq/v13lqphylotypecounts-rownames-bodysites.csv', sep=';')\n",
    "y=y.drop(['x'], axis=1)\n",
    "y.head()\n",
    "#\n",
    "X=data\n",
    "X.head()\n",
    "\n",
    "#y['type'].hist()\n",
    "ttab=np.asarray(y.drop_duplicates(subset = \"type\")).T\n",
    "diff_types=ttab.tolist()[0]\n",
    "\n",
    "tab=data"
   ]
  },
  {
   "cell_type": "code",
   "execution_count": 24,
   "metadata": {},
   "outputs": [],
   "source": [
    "###Distances\n",
    "\n",
    "\"\"\" euclidean distances \"\"\"\n",
    "N=tab.shape[0]\n",
    "D=pdist(tab)\n",
    "DSO=squareform(D)\n",
    "D_TRUE=squareform(D)\n",
    "# \"\"\" A few outliers along new axis \"\"\"\n",
    "# seed= 112 ; alea.seed(seed)\n",
    "# sD=squareform(D)\n",
    "# N=np.shape(sD)[0]\n",
    "# pc=0.05 #proportion of outliers\n",
    "# k=int(np.ceil(pc*N))\n",
    "# # Tirage aléatoire de quelques points hors plan\n",
    "# indices=np.sort(alea.sample(range(N),k))\n",
    "# DSO=1.*sD\n",
    "# for n in indices:\n",
    "#     horsplan=50*alea.random()\n",
    "#     print (\"n,horsplan:\"+str(n)+\",\"+str(horsplan))\n",
    "#     for m in [x for x in range(N) if x !=n]:\n",
    "#         DSO[n,m]=DSO[m,n]=np.sqrt(DSO[n,m]**2+horsplan**2)\n",
    "\n",
    "\"\"\" n = 3 , DSO \"\"\"\n",
    "n=3\n",
    "Vn=[]\n",
    "seed=245124512 ; alea.seed(seed)\n",
    "for i in range(1000):\n",
    "    indices2=alea.sample(range(N),n+1)\n",
    "    Vn.append(nSimplexVolume(indices2,DSO))\n",
    "\n",
    "#plt.hist(Vn) ; plt.show() # majorité nuls ou presque, un très petit nb ressort\n",
    "#                          #   (comme ci-dessus, surement dû au bruit)."
   ]
  },
  {
   "cell_type": "code",
   "execution_count": 25,
   "metadata": {},
   "outputs": [
    {
     "name": "stdout",
     "output_type": "stream",
     "text": [
      "\n",
      " Application of nSimplex \n",
      " \n"
     ]
    },
    {
     "ename": "NameError",
     "evalue": "name 'nSimplwhichdim' is not defined",
     "output_type": "error",
     "traceback": [
      "\u001b[0;31m---------------------------------------------------------------------------\u001b[0m",
      "\u001b[0;31mNameError\u001b[0m                                 Traceback (most recent call last)",
      "\u001b[0;32m<ipython-input-25-6e923ae84907>\u001b[0m in \u001b[0;36m<module>\u001b[0;34m\u001b[0m\n\u001b[1;32m     19\u001b[0m \u001b[0mprint\u001b[0m\u001b[0;34m(\u001b[0m\u001b[0;34m\"\\n Application of nSimplex \\n \"\u001b[0m\u001b[0;34m)\u001b[0m\u001b[0;34m\u001b[0m\u001b[0;34m\u001b[0m\u001b[0m\n\u001b[1;32m     20\u001b[0m \u001b[0mt1\u001b[0m\u001b[0;34m=\u001b[0m\u001b[0mtime\u001b[0m\u001b[0;34m.\u001b[0m\u001b[0mtime\u001b[0m\u001b[0;34m(\u001b[0m\u001b[0;34m)\u001b[0m\u001b[0;34m\u001b[0m\u001b[0;34m\u001b[0m\u001b[0m\n\u001b[0;32m---> 21\u001b[0;31m \u001b[0mresu\u001b[0m\u001b[0;34m=\u001b[0m\u001b[0mnSimplwhichdim\u001b[0m\u001b[0;34m(\u001b[0m\u001b[0mdata\u001b[0m\u001b[0;34m,\u001b[0m\u001b[0mcutoff\u001b[0m\u001b[0;34m,\u001b[0m\u001b[0mtrim\u001b[0m\u001b[0;34m,\u001b[0m\u001b[0mngmetric\u001b[0m\u001b[0;34m=\u001b[0m\u001b[0;34m\"rkurtosis\"\u001b[0m\u001b[0;34m,\u001b[0m\u001b[0mnf\u001b[0m\u001b[0;34m=\u001b[0m\u001b[0;36m5\u001b[0m\u001b[0;34m)\u001b[0m\u001b[0;34m\u001b[0m\u001b[0;34m\u001b[0m\u001b[0m\n\u001b[0m\u001b[1;32m     22\u001b[0m \u001b[0mt2\u001b[0m\u001b[0;34m=\u001b[0m\u001b[0mtime\u001b[0m\u001b[0;34m.\u001b[0m\u001b[0mtime\u001b[0m\u001b[0;34m(\u001b[0m\u001b[0;34m)\u001b[0m\u001b[0;34m\u001b[0m\u001b[0;34m\u001b[0m\u001b[0m\n\u001b[1;32m     23\u001b[0m \u001b[0mvar\u001b[0m \u001b[0;34m=\u001b[0m \u001b[0mnp\u001b[0m\u001b[0;34m.\u001b[0m\u001b[0marray\u001b[0m\u001b[0;34m(\u001b[0m\u001b[0mresu\u001b[0m\u001b[0;34m[\u001b[0m\u001b[0;36m0\u001b[0m\u001b[0;34m]\u001b[0m\u001b[0;34m[\u001b[0m\u001b[0;36m3\u001b[0m\u001b[0;34m]\u001b[0m\u001b[0;34m[\u001b[0m\u001b[0;36m0\u001b[0m\u001b[0;34m]\u001b[0m\u001b[0;34m)\u001b[0m\u001b[0;34m**\u001b[0m\u001b[0;36m2\u001b[0m \u001b[0;34m/\u001b[0m \u001b[0;34m(\u001b[0m\u001b[0;36m2\u001b[0m\u001b[0;34m*\u001b[0m\u001b[0mnp\u001b[0m\u001b[0;34m.\u001b[0m\u001b[0mmean\u001b[0m\u001b[0;34m(\u001b[0m\u001b[0mdata\u001b[0m\u001b[0;34m,\u001b[0m\u001b[0;36m0\u001b[0m\u001b[0;34m)\u001b[0m\u001b[0;34m)\u001b[0m\u001b[0;34m\u001b[0m\u001b[0;34m\u001b[0m\u001b[0m\n",
      "\u001b[0;31mNameError\u001b[0m: name 'nSimplwhichdim' is not defined"
     ]
    }
   ],
   "source": [
    "###nSimplices method\n",
    "\"\"\" Parameters and formatting of input data \"\"\"\n",
    "cutoff=0.5\n",
    "trim=0.9\n",
    "\n",
    "# En entrée : DSO, qui contient quelques outliers hors-plan\n",
    "lDSO=squareform(DSO) # shape DSO as other matrices, i.e. as a N*(N-1)/2-sized flat matrix.\n",
    "data=squareform(lDSO)    #squareform( DNd ) #squareform(DNne)\n",
    "#(D+1.*np.array(Noise)) ou 1e-6,1e-5,... 1., 10. *Noise\n",
    "#D, Dd, DO, DOd, DSO, DNd. (Ddne)\n",
    "\n",
    "\n",
    "\"\"\" Applications of nSimplices :\n",
    "    - dimension detection\n",
    "    - outlier detection\n",
    "    - outliers are projected into relevant dimension\n",
    "    - result : distance matrix to be used in classical MDS, for instance.\n",
    "\"\"\"\n",
    "print(\"\\n Application of nSimplex \\n \")\n",
    "t1=time.time()\n",
    "resu=nSimplwhichdim(data,cutoff,trim,ngmetric=\"rkurtosis\",nf=5)\n",
    "t2=time.time()\n",
    "var = np.array(resu[0][3][0])**2 / (2*np.mean(data,0))\n",
    "print (np.std(resu[0][3][0]) , np.std(resu[0][3][0] / np.sqrt(2*np.mean(data,0))), np.std( var ), 1.4826*np.median(abs(var-np.median(var))))\n"
   ]
  },
  {
   "cell_type": "code",
   "execution_count": 26,
   "metadata": {},
   "outputs": [
    {
     "ename": "NameError",
     "evalue": "name 'resu' is not defined",
     "output_type": "error",
     "traceback": [
      "\u001b[0;31m---------------------------------------------------------------------------\u001b[0m",
      "\u001b[0;31mNameError\u001b[0m                                 Traceback (most recent call last)",
      "\u001b[0;32m<ipython-input-26-b317693a00b1>\u001b[0m in \u001b[0;36m<module>\u001b[0;34m\u001b[0m\n\u001b[1;32m     12\u001b[0m \u001b[0max2\u001b[0m\u001b[0;34m.\u001b[0m\u001b[0mset_title\u001b[0m\u001b[0;34m(\u001b[0m\u001b[0;34m\"Contaminated\"\u001b[0m\u001b[0;34m)\u001b[0m\u001b[0;34m\u001b[0m\u001b[0;34m\u001b[0m\u001b[0m\n\u001b[1;32m     13\u001b[0m \u001b[0;31m#\u001b[0m\u001b[0;34m\u001b[0m\u001b[0;34m\u001b[0m\u001b[0;34m\u001b[0m\u001b[0m\n\u001b[0;32m---> 14\u001b[0;31m \u001b[0mva\u001b[0m\u001b[0;34m,\u001b[0m \u001b[0mve\u001b[0m\u001b[0;34m,\u001b[0m \u001b[0mXe\u001b[0m \u001b[0;34m=\u001b[0m \u001b[0mcMDS\u001b[0m\u001b[0;34m(\u001b[0m\u001b[0mresu\u001b[0m\u001b[0;34m[\u001b[0m\u001b[0;36m3\u001b[0m\u001b[0;34m]\u001b[0m\u001b[0;34m[\u001b[0m\u001b[0;36m3\u001b[0m\u001b[0;34m]\u001b[0m\u001b[0;34m)\u001b[0m\u001b[0;34m\u001b[0m\u001b[0;34m\u001b[0m\u001b[0m\n\u001b[0m\u001b[1;32m     15\u001b[0m \u001b[0;34m\u001b[0m\u001b[0m\n\u001b[1;32m     16\u001b[0m \u001b[0mXe\u001b[0m\u001b[0;34m=\u001b[0m\u001b[0mpd\u001b[0m\u001b[0;34m.\u001b[0m\u001b[0mDataFrame\u001b[0m\u001b[0;34m(\u001b[0m\u001b[0mnp\u001b[0m\u001b[0;34m.\u001b[0m\u001b[0masarray\u001b[0m\u001b[0;34m(\u001b[0m\u001b[0;34m[\u001b[0m\u001b[0mXe\u001b[0m\u001b[0;34m[\u001b[0m\u001b[0;34m:\u001b[0m\u001b[0;34m,\u001b[0m\u001b[0;36m0\u001b[0m\u001b[0;34m]\u001b[0m\u001b[0;34m,\u001b[0m\u001b[0mXe\u001b[0m\u001b[0;34m[\u001b[0m\u001b[0;34m:\u001b[0m\u001b[0;34m,\u001b[0m\u001b[0;36m1\u001b[0m\u001b[0;34m]\u001b[0m\u001b[0;34m]\u001b[0m\u001b[0;34m)\u001b[0m\u001b[0;34m.\u001b[0m\u001b[0mT\u001b[0m\u001b[0;34m,\u001b[0m \u001b[0mcolumns\u001b[0m \u001b[0;34m=\u001b[0m \u001b[0;34m[\u001b[0m\u001b[0;34m'principal component 1'\u001b[0m\u001b[0;34m,\u001b[0m \u001b[0;34m'principal component 2'\u001b[0m\u001b[0;34m]\u001b[0m\u001b[0;34m)\u001b[0m\u001b[0;34m\u001b[0m\u001b[0;34m\u001b[0m\u001b[0m\n",
      "\u001b[0;31mNameError\u001b[0m: name 'resu' is not defined"
     ]
    },
    {
     "data": {
      "image/png": "[encoded data removed]",
      "text/plain": [
       "<Figure size 720x216 with 3 Axes>"
      ]
     },
     "metadata": {
      "needs_background": "light"
     },
     "output_type": "display_data"
    }
   ],
   "source": [
    "\"\"\" cMDS and plot \"\"\"\n",
    "\n",
    "fig, (ax1, ax2, ax3) = plt.subplots(1, 3, figsize=(10,3))\n",
    "#fig.suptitle('Horizontally stacked subplots')\n",
    "#\n",
    "va, ve, Xe = cMDS(D_TRUE)\n",
    "ax1.plot(Xe[:,0],Xe[:,1],'.')\n",
    "ax1.set_title(\"TRUE\")\n",
    "#\n",
    "va, ve, Xe = cMDS(DSO)\n",
    "ax2.plot(Xe[:,0],Xe[:,1],'.', color='orange')\n",
    "ax2.set_title(\"Contaminated\")\n",
    "#\n",
    "va, ve, Xe = cMDS(resu[3][3])\n",
    "\n",
    "Xe=pd.DataFrame(np.asarray([Xe[:,0],Xe[:,1]]).T, columns = ['principal component 1', 'principal component 2'])\n",
    "finalDf = pd.concat([Xe, y], axis = 1)\n",
    "\n",
    "targets = diff_types\n",
    "#colors = ['b','r','g']\n",
    "\n",
    "for target in targets:\n",
    "    indicesToKeep = finalDf['type'] == target\n",
    "    ax3.scatter(finalDf.loc[indicesToKeep, 'principal component 1']\n",
    "               , finalDf.loc[indicesToKeep, 'principal component 2']\n",
    "\n",
    "               , s = 5)\n",
    "#ax3.legend(targets)\n",
    "ax3.grid()\n",
    "plt.show()\n",
    "\n",
    "\n",
    "# ax3.plot(Xe[:,0],Xe[:,1],'.', color='green')\n",
    "# ax3.set_title(\"Restituted\")\n",
    "# plt.show()"
   ]
  },
  {
   "cell_type": "code",
   "execution_count": null,
   "metadata": {},
   "outputs": [
    {
     "data": {
      "text/plain": [
       "'\\n### PCA\\n\\npca_method = PCA(n_components=2)\\nt3=time.time()\\nprincipalComponents_test1 = pca_method.fit_transform(data_test1)\\nt4=time.time()\\nDf_pc_test1=pd.DataFrame(data = principalComponents_test1\\n             , columns = [\\'principal component 1\\', \\'principal component 2\\'])\\n\\n# pca_method.components_\\n\\n#plot le Df de PCA\\n\\nDf_pc_test1[\\'type\\']=\"normal\"\\n\\nfor i in indices:\\n\\n    Df_pc_test1.loc[i,\\'type\\']=\"contaminated\"\\n\\nfig = plt.figure(figsize=(4,4))\\nax = fig.add_subplot(1,1,1)\\nax.set_xlabel(\\'Principal Component 1\\', fontsize = 15)\\nax.set_ylabel(\\'Principal Component 2\\', fontsize = 15)\\nax.set_title(\\'2 component PCA\\', fontsize = 20)\\n#targets = [\\'Iris-setosa\\', \\'Iris-versicolor\\', \\'Iris-virginica\\']\\n#colors = [\\'r\\', \\'g\\', \\'b\\']\\n\\n\\ntargets = [\"normal\",\"contaminated\"]\\ncolors = [\\'b\\',\\'r\\']\\n\\nfor target, color in zip(targets,colors):\\n    indicesToKeep = Df_pc_test1[\\'type\\'] == target\\n    ax.scatter(Df_pc_test1.loc[indicesToKeep, \\'principal component 1\\']\\n               , Df_pc_test1.loc[indicesToKeep, \\'principal component 2\\']\\n               , c = color\\n               , s = 50)\\nax.legend(targets)\\nax.grid()\\nplt.show()\\n\\n###Temps d\\'exécution\\nprint(\" \")\\nT1=t2-t1\\nprint(f\"nSimplex tourne en {T1} s\")\\nT2=t4-t3\\nprint(f\"PCA tourne en {T2} s\")\\n\\n'"
      ]
     },
     "execution_count": 18,
     "metadata": {},
     "output_type": "execute_result"
    }
   ],
   "source": [
    "'''\n",
    "### PCA\n",
    "\n",
    "pca_method = PCA(n_components=2)\n",
    "t3=time.time()\n",
    "principalComponents_test1 = pca_method.fit_transform(data_test1)\n",
    "t4=time.time()\n",
    "Df_pc_test1=pd.DataFrame(data = principalComponents_test1\n",
    "             , columns = ['principal component 1', 'principal component 2'])\n",
    "\n",
    "# pca_method.components_\n",
    "\n",
    "#plot le Df de PCA\n",
    "\n",
    "Df_pc_test1['type']=\"normal\"\n",
    "\n",
    "for i in indices:\n",
    "\n",
    "    Df_pc_test1.loc[i,'type']=\"contaminated\"\n",
    "\n",
    "fig = plt.figure(figsize=(4,4))\n",
    "ax = fig.add_subplot(1,1,1)\n",
    "ax.set_xlabel('Principal Component 1', fontsize = 15)\n",
    "ax.set_ylabel('Principal Component 2', fontsize = 15)\n",
    "ax.set_title('2 component PCA', fontsize = 20)\n",
    "#targets = ['Iris-setosa', 'Iris-versicolor', 'Iris-virginica']\n",
    "#colors = ['r', 'g', 'b']\n",
    "\n",
    "\n",
    "targets = [\"normal\",\"contaminated\"]\n",
    "colors = ['b','r']\n",
    "\n",
    "for target, color in zip(targets,colors):\n",
    "    indicesToKeep = Df_pc_test1['type'] == target\n",
    "    ax.scatter(Df_pc_test1.loc[indicesToKeep, 'principal component 1']\n",
    "               , Df_pc_test1.loc[indicesToKeep, 'principal component 2']\n",
    "               , c = color\n",
    "               , s = 50)\n",
    "ax.legend(targets)\n",
    "ax.grid()\n",
    "plt.show()\n",
    "\n",
    "###Temps d'exécution\n",
    "print(\" \")\n",
    "T1=t2-t1\n",
    "print(f\"nSimplex tourne en {T1} s\")\n",
    "T2=t4-t3\n",
    "print(f\"PCA tourne en {T2} s\")\n",
    "\n",
    "'''"
   ]
  },
  {
   "cell_type": "code",
   "execution_count": null,
   "metadata": {},
   "outputs": [
    {
     "name": "stdout",
     "output_type": "stream",
     "text": [
      "0.6666351931953279\n"
     ]
    },
    {
     "ename": "KeyboardInterrupt",
     "evalue": "",
     "output_type": "error",
     "traceback": [
      "\u001b[0;31m---------------------------------------------------------------------------\u001b[0m",
      "\u001b[0;31mKeyboardInterrupt\u001b[0m                         Traceback (most recent call last)",
      "\u001b[0;32m<ipython-input-19-784abab9ddf3>\u001b[0m in \u001b[0;36m<module>\u001b[0;34m\u001b[0m\n\u001b[1;32m      3\u001b[0m \u001b[0mtrim\u001b[0m\u001b[0;34m=\u001b[0m\u001b[0;36m0.9\u001b[0m\u001b[0;34m\u001b[0m\u001b[0;34m\u001b[0m\u001b[0m\n\u001b[1;32m      4\u001b[0m \u001b[0mcoord\u001b[0m\u001b[0;34m=\u001b[0m\u001b[0mnp\u001b[0m\u001b[0;34m.\u001b[0m\u001b[0marray\u001b[0m\u001b[0;34m(\u001b[0m\u001b[0mtab\u001b[0m\u001b[0;34m)\u001b[0m\u001b[0;34m\u001b[0m\u001b[0;34m\u001b[0m\u001b[0m\n\u001b[0;32m----> 5\u001b[0;31m \u001b[0mnb\u001b[0m\u001b[0;34m,\u001b[0m\u001b[0mdico_outlier\u001b[0m\u001b[0;34m,\u001b[0m\u001b[0mdico_h\u001b[0m\u001b[0;34m,\u001b[0m\u001b[0mrdim\u001b[0m\u001b[0;34m,\u001b[0m\u001b[0mcdata\u001b[0m\u001b[0;34m,\u001b[0m\u001b[0mcdata_proj\u001b[0m\u001b[0;34m,\u001b[0m\u001b[0mcoord_corr\u001b[0m\u001b[0;34m=\u001b[0m\u001b[0mnSimpl_RelevantDim_ScreePlot\u001b[0m\u001b[0;34m(\u001b[0m\u001b[0mcoord\u001b[0m\u001b[0;34m,\u001b[0m\u001b[0mDSO\u001b[0m\u001b[0;34m,\u001b[0m\u001b[0mcutoff\u001b[0m\u001b[0;34m,\u001b[0m\u001b[0mtrim\u001b[0m\u001b[0;34m,\u001b[0m\u001b[0mn0\u001b[0m\u001b[0;34m=\u001b[0m\u001b[0;36m20\u001b[0m\u001b[0;34m,\u001b[0m\u001b[0mnf\u001b[0m\u001b[0;34m=\u001b[0m\u001b[0;36m21\u001b[0m\u001b[0;34m)\u001b[0m\u001b[0;34m\u001b[0m\u001b[0;34m\u001b[0m\u001b[0m\n\u001b[0m",
      "\u001b[0;32m~/Desktop/nSimplices/nSimplices_new.py\u001b[0m in \u001b[0;36mnSimpl_RelevantDim_ScreePlot\u001b[0;34m(coord, data, cutoff, trim, n0, nf)\u001b[0m\n\u001b[1;32m    247\u001b[0m \u001b[0;34m\u001b[0m\u001b[0m\n\u001b[1;32m    248\u001b[0m             \u001b[0;31m#outlier detection\u001b[0m\u001b[0;34m\u001b[0m\u001b[0;34m\u001b[0m\u001b[0;34m\u001b[0m\u001b[0m\n\u001b[0;32m--> 249\u001b[0;31m             \u001b[0mlist_outliers\u001b[0m\u001b[0;34m,\u001b[0m\u001b[0mh\u001b[0m\u001b[0;34m,\u001b[0m\u001b[0mhs\u001b[0m\u001b[0;34m,\u001b[0m\u001b[0mJhn\u001b[0m \u001b[0;34m=\u001b[0m \u001b[0mDetectOutliers_n\u001b[0m\u001b[0;34m(\u001b[0m\u001b[0mN\u001b[0m\u001b[0;34m,\u001b[0m\u001b[0mdata\u001b[0m\u001b[0;34m,\u001b[0m\u001b[0mtrim\u001b[0m\u001b[0;34m,\u001b[0m\u001b[0mcutoff\u001b[0m\u001b[0;34m,\u001b[0m\u001b[0mn\u001b[0m\u001b[0;34m,\u001b[0m\u001b[0mMed\u001b[0m\u001b[0;34m)\u001b[0m\u001b[0;34m\u001b[0m\u001b[0;34m\u001b[0m\u001b[0m\n\u001b[0m\u001b[1;32m    250\u001b[0m             \u001b[0mdico_outliers\u001b[0m\u001b[0;34m[\u001b[0m\u001b[0mn\u001b[0m\u001b[0;34m]\u001b[0m\u001b[0;34m=\u001b[0m\u001b[0mlist_outliers\u001b[0m\u001b[0;34m\u001b[0m\u001b[0;34m\u001b[0m\u001b[0m\n\u001b[1;32m    251\u001b[0m             \u001b[0mnb\u001b[0m\u001b[0;34m=\u001b[0m\u001b[0mlen\u001b[0m\u001b[0;34m(\u001b[0m\u001b[0mlist_outliers\u001b[0m\u001b[0;34m)\u001b[0m\u001b[0;34m\u001b[0m\u001b[0;34m\u001b[0m\u001b[0m\n",
      "\u001b[0;32m~/Desktop/nSimplices/nSimplices_new.py\u001b[0m in \u001b[0;36mDetectOutliers_n\u001b[0;34m(N, data, trim, cutoff, n, Med)\u001b[0m\n\u001b[1;32m    138\u001b[0m \u001b[0;32mdef\u001b[0m \u001b[0mDetectOutliers_n\u001b[0m\u001b[0;34m(\u001b[0m\u001b[0mN\u001b[0m\u001b[0;34m,\u001b[0m\u001b[0mdata\u001b[0m\u001b[0;34m,\u001b[0m\u001b[0mtrim\u001b[0m\u001b[0;34m,\u001b[0m\u001b[0mcutoff\u001b[0m\u001b[0;34m,\u001b[0m\u001b[0mn\u001b[0m\u001b[0;34m,\u001b[0m\u001b[0mMed\u001b[0m\u001b[0;34m)\u001b[0m\u001b[0;34m:\u001b[0m\u001b[0;34m\u001b[0m\u001b[0;34m\u001b[0m\u001b[0m\n\u001b[1;32m    139\u001b[0m \u001b[0;34m\u001b[0m\u001b[0m\n\u001b[0;32m--> 140\u001b[0;31m     \u001b[0mh\u001b[0m\u001b[0;34m,\u001b[0m\u001b[0mhs\u001b[0m\u001b[0;34m,\u001b[0m\u001b[0mJhn\u001b[0m \u001b[0;34m=\u001b[0m \u001b[0mnSimplwhichh\u001b[0m\u001b[0;34m(\u001b[0m\u001b[0mN\u001b[0m\u001b[0;34m,\u001b[0m\u001b[0mdata\u001b[0m\u001b[0;34m,\u001b[0m\u001b[0mtrim\u001b[0m\u001b[0;34m,\u001b[0m\u001b[0mn\u001b[0m\u001b[0;34m,\u001b[0m\u001b[0mseed\u001b[0m\u001b[0;34m=\u001b[0m\u001b[0mn\u001b[0m\u001b[0;34m+\u001b[0m\u001b[0;36m1\u001b[0m\u001b[0;34m)\u001b[0m\u001b[0;34m\u001b[0m\u001b[0;34m\u001b[0m\u001b[0m\n\u001b[0m\u001b[1;32m    141\u001b[0m \u001b[0;34m\u001b[0m\u001b[0m\n\u001b[1;32m    142\u001b[0m     \u001b[0mh\u001b[0m\u001b[0;34m=\u001b[0m\u001b[0mnp\u001b[0m\u001b[0;34m.\u001b[0m\u001b[0marray\u001b[0m\u001b[0;34m(\u001b[0m\u001b[0mh\u001b[0m\u001b[0;34m)\u001b[0m\u001b[0;34m\u001b[0m\u001b[0;34m\u001b[0m\u001b[0m\n",
      "\u001b[0;32m~/Desktop/nSimplices/nSimplices_new.py\u001b[0m in \u001b[0;36mnSimplwhichh\u001b[0;34m(N, data, trim, n, seed, figpath, verbose)\u001b[0m\n\u001b[1;32m     86\u001b[0m         \u001b[0mB\u001b[0m\u001b[0;34m=\u001b[0m\u001b[0;36m100\u001b[0m\u001b[0;34m\u001b[0m\u001b[0;34m\u001b[0m\u001b[0m\n\u001b[1;32m     87\u001b[0m         \u001b[0;31m#we draw B groups of (n-1) points, to create n-Simplices and then compute the height median for i\u001b[0m\u001b[0;34m\u001b[0m\u001b[0;34m\u001b[0m\u001b[0;34m\u001b[0m\u001b[0m\n\u001b[0;32m---> 88\u001b[0;31m         \u001b[0;34m(\u001b[0m\u001b[0mB\u001b[0m\u001b[0;34m,\u001b[0m\u001b[0mhcollection\u001b[0m\u001b[0;34m)\u001b[0m\u001b[0;34m=\u001b[0m\u001b[0mDrawNSimplices\u001b[0m\u001b[0;34m(\u001b[0m\u001b[0mdata\u001b[0m\u001b[0;34m,\u001b[0m\u001b[0mN\u001b[0m\u001b[0;34m,\u001b[0m\u001b[0mB\u001b[0m\u001b[0;34m,\u001b[0m\u001b[0mi\u001b[0m\u001b[0;34m,\u001b[0m\u001b[0mn\u001b[0m\u001b[0;34m)\u001b[0m\u001b[0;34m\u001b[0m\u001b[0;34m\u001b[0m\u001b[0m\n\u001b[0m\u001b[1;32m     89\u001b[0m \u001b[0;34m\u001b[0m\u001b[0m\n\u001b[1;32m     90\u001b[0m         \u001b[0;31m#we here get h[i] the median of heights of the data point i\u001b[0m\u001b[0;34m\u001b[0m\u001b[0;34m\u001b[0m\u001b[0;34m\u001b[0m\u001b[0m\n",
      "\u001b[0;32m~/Desktop/nSimplices/nSimplices_new.py\u001b[0m in \u001b[0;36mDrawNSimplices\u001b[0;34m(data, N, B, i, n)\u001b[0m\n\u001b[1;32m     55\u001b[0m     \u001b[0mcountVzero\u001b[0m \u001b[0;34m=\u001b[0m \u001b[0;36m0\u001b[0m\u001b[0;34m\u001b[0m\u001b[0;34m\u001b[0m\u001b[0m\n\u001b[1;32m     56\u001b[0m     \u001b[0;32mfor\u001b[0m \u001b[0mb\u001b[0m \u001b[0;32min\u001b[0m \u001b[0mrange\u001b[0m\u001b[0;34m(\u001b[0m\u001b[0mB\u001b[0m\u001b[0;34m)\u001b[0m\u001b[0;34m:\u001b[0m\u001b[0;34m\u001b[0m\u001b[0;34m\u001b[0m\u001b[0m\n\u001b[0;32m---> 57\u001b[0;31m         \u001b[0mindices\u001b[0m  \u001b[0;34m=\u001b[0m \u001b[0malea\u001b[0m\u001b[0;34m.\u001b[0m\u001b[0msample\u001b[0m\u001b[0;34m(\u001b[0m \u001b[0;34m[\u001b[0m\u001b[0mx\u001b[0m \u001b[0;32mfor\u001b[0m \u001b[0mx\u001b[0m \u001b[0;32min\u001b[0m \u001b[0mrange\u001b[0m\u001b[0;34m(\u001b[0m\u001b[0mN\u001b[0m\u001b[0;34m)\u001b[0m \u001b[0;32mif\u001b[0m \u001b[0mx\u001b[0m \u001b[0;34m!=\u001b[0m \u001b[0mi\u001b[0m\u001b[0;34m]\u001b[0m \u001b[0;34m,\u001b[0m \u001b[0;34m(\u001b[0m\u001b[0mn\u001b[0m\u001b[0;34m)\u001b[0m\u001b[0;34m+\u001b[0m\u001b[0;36m1\u001b[0m \u001b[0;34m)\u001b[0m\u001b[0;34m\u001b[0m\u001b[0;34m\u001b[0m\u001b[0m\n\u001b[0m\u001b[1;32m     58\u001b[0m         \u001b[0mVn\u001b[0m       \u001b[0;34m=\u001b[0m \u001b[0mnSimplexVolume\u001b[0m\u001b[0;34m(\u001b[0m \u001b[0;34m[\u001b[0m\u001b[0mi\u001b[0m\u001b[0;34m]\u001b[0m\u001b[0;34m+\u001b[0m\u001b[0mindices\u001b[0m \u001b[0;34m,\u001b[0m \u001b[0mdata\u001b[0m\u001b[0;34m,\u001b[0m \u001b[0mexactdenominator\u001b[0m\u001b[0;34m=\u001b[0m\u001b[0;32mFalse\u001b[0m\u001b[0;34m)\u001b[0m\u001b[0;34m\u001b[0m\u001b[0;34m\u001b[0m\u001b[0m\n\u001b[1;32m     59\u001b[0m         \u001b[0mVnm1\u001b[0m     \u001b[0;34m=\u001b[0m \u001b[0mnSimplexVolume\u001b[0m\u001b[0;34m(\u001b[0m \u001b[0mindices\u001b[0m\u001b[0;34m,\u001b[0m \u001b[0mdata\u001b[0m\u001b[0;34m,\u001b[0m \u001b[0mexactdenominator\u001b[0m\u001b[0;34m=\u001b[0m\u001b[0;32mFalse\u001b[0m\u001b[0;34m)\u001b[0m\u001b[0;34m\u001b[0m\u001b[0;34m\u001b[0m\u001b[0m\n",
      "\u001b[0;32m/Library/Frameworks/Python.framework/Versions/3.8/lib/python3.8/random.py\u001b[0m in \u001b[0;36msample\u001b[0;34m(self, population, k)\u001b[0m\n\u001b[1;32m    377\u001b[0m             \u001b[0mselected_add\u001b[0m \u001b[0;34m=\u001b[0m \u001b[0mselected\u001b[0m\u001b[0;34m.\u001b[0m\u001b[0madd\u001b[0m\u001b[0;34m\u001b[0m\u001b[0;34m\u001b[0m\u001b[0m\n\u001b[1;32m    378\u001b[0m             \u001b[0;32mfor\u001b[0m \u001b[0mi\u001b[0m \u001b[0;32min\u001b[0m \u001b[0mrange\u001b[0m\u001b[0;34m(\u001b[0m\u001b[0mk\u001b[0m\u001b[0;34m)\u001b[0m\u001b[0;34m:\u001b[0m\u001b[0;34m\u001b[0m\u001b[0;34m\u001b[0m\u001b[0m\n\u001b[0;32m--> 379\u001b[0;31m                 \u001b[0mj\u001b[0m \u001b[0;34m=\u001b[0m \u001b[0mrandbelow\u001b[0m\u001b[0;34m(\u001b[0m\u001b[0mn\u001b[0m\u001b[0;34m)\u001b[0m\u001b[0;34m\u001b[0m\u001b[0;34m\u001b[0m\u001b[0m\n\u001b[0m\u001b[1;32m    380\u001b[0m                 \u001b[0;32mwhile\u001b[0m \u001b[0mj\u001b[0m \u001b[0;32min\u001b[0m \u001b[0mselected\u001b[0m\u001b[0;34m:\u001b[0m\u001b[0;34m\u001b[0m\u001b[0;34m\u001b[0m\u001b[0m\n\u001b[1;32m    381\u001b[0m                     \u001b[0mj\u001b[0m \u001b[0;34m=\u001b[0m \u001b[0mrandbelow\u001b[0m\u001b[0;34m(\u001b[0m\u001b[0mn\u001b[0m\u001b[0;34m)\u001b[0m\u001b[0;34m\u001b[0m\u001b[0;34m\u001b[0m\u001b[0m\n",
      "\u001b[0;31mKeyboardInterrupt\u001b[0m: "
     ]
    }
   ],
   "source": [
    "###ScreePlot Method (runs for too long)\n",
    "cutoff=0.5\n",
    "trim=0.9\n",
    "coord=np.array(tab)\n",
    "nb,dico_outlier,dico_h,rdim,cdata,cdata_proj,coord_corr=nSimpl_RelevantDim_ScreePlot(coord,DSO,cutoff,trim,n0=20,nf=21)\n"
   ]
  },
  {
   "cell_type": "code",
   "execution_count": null,
   "metadata": {},
   "outputs": [
    {
     "ename": "SystemExit",
     "evalue": "D must be symetric...",
     "output_type": "error",
     "traceback": [
      "An exception has occurred, use %tb to see the full traceback.\n",
      "\u001b[0;31mSystemExit\u001b[0m\u001b[0;31m:\u001b[0m D must be symetric...\n"
     ]
    },
    {
     "name": "stderr",
     "output_type": "stream",
     "text": [
      "/Users/wanxinli/Library/Python/3.8/lib/python/site-packages/IPython/core/interactiveshell.py:3449: UserWarning: To exit: use 'exit', 'quit', or Ctrl-D.\n",
      "  warn(\"To exit: use 'exit', 'quit', or Ctrl-D.\", stacklevel=1)\n"
     ]
    },
    {
     "data": {
      "image/png": "[encoded data removed]",
      "text/plain": [
       "<Figure size 288x288 with 1 Axes>"
      ]
     },
     "metadata": {
      "needs_background": "light"
     },
     "output_type": "display_data"
    }
   ],
   "source": [
    "###Points graphe\n",
    "\n",
    "from mpl_toolkits.mplot3d import Axes3D\n",
    "fig = plt.figure(figsize=(4,4))\n",
    "ax = fig.add_subplot(111, projection='3d')\n",
    "\n",
    "va, ve, Xe = cMDS(coord)\n",
    "\n",
    "Xe=pd.DataFrame(np.asarray([Xe[:,0],Xe[:,1],Xe[:,2]]).T, columns = ['principal component 1', 'principal component 2','principal component 3'])\n",
    "finalDf = pd.concat([Xe, y], axis = 1)\n",
    "\n",
    "targets = diff_types\n",
    "#colors = ['b','r','g']\n",
    "\n",
    "for target in targets:\n",
    "    indicesToKeep = finalDf['type'] == target\n",
    "    ax.scatter(finalDf.loc[indicesToKeep, 'principal component 1']\n",
    "               , finalDf.loc[indicesToKeep, 'principal component 2']\n",
    "               , finalDf.loc[indicesToKeep, 'principal component 3']\n",
    "               , s = 5)\n",
    "\n",
    "plt.show()\n",
    "\n",
    "\n",
    "fig, (ax1, ax2, ax3) = plt.subplots(1, 3, figsize=(10,3))\n",
    "#fig.suptitle('Horizontally stacked subplots')\n",
    "#\n",
    "va, ve, Xe = cMDS(D_TRUE)\n",
    "ax1.plot(Xe[:,0],Xe[:,1],'.')\n",
    "ax1.set_title(\"TRUE\")\n",
    "#\n",
    "va, ve, Xe = cMDS(DSO)\n",
    "ax2.plot(Xe[:,0],Xe[:,1],'.', color='orange')\n",
    "ax2.set_title(\"Contaminated\")\n",
    "#\n",
    "va, ve, Xe = cMDS(cdata)\n",
    "\n",
    "Xe=pd.DataFrame(np.asarray([Xe[:,1],Xe[:,2]]).T, columns = ['principal component 1', 'principal component 2'])\n",
    "finalDf = pd.concat([Xe, y], axis = 1)\n",
    "\n",
    "targets = diff_types\n",
    "#colors = ['b','r','g']\n",
    "\n",
    "for target in targets:\n",
    "    indicesToKeep = finalDf['type'] == target\n",
    "    ax3.scatter(finalDf.loc[indicesToKeep, 'principal component 1']\n",
    "               , finalDf.loc[indicesToKeep, 'principal component 2']\n",
    "\n",
    "               , s = 5)\n",
    "#ax3.legend(targets)\n",
    "ax3.grid()\n",
    "plt.show()\n"
   ]
  },
  {
   "cell_type": "code",
   "execution_count": null,
   "metadata": {},
   "outputs": [],
   "source": []
  }
 ],
 "metadata": {
  "kernelspec": {
   "display_name": "Python 3.8.2 64-bit",
   "language": "python",
   "name": "python3"
  },
  "language_info": {
   "codemirror_mode": {
    "name": "ipython",
    "version": 3
   },
   "file_extension": ".py",
   "mimetype": "text/x-python",
   "name": "python",
   "nbconvert_exporter": "python",
   "pygments_lexer": "ipython3",
   "version": "3.8.2"
  },
  "orig_nbformat": 4,
  "vscode": {
   "interpreter": {
    "hash": "aee8b7b246df8f9039afb4144a1f6fd8d2ca17a180786b69acc140d282b71a49"
   }
  }
 },
 "nbformat": 4,
 "nbformat_minor": 2
}
