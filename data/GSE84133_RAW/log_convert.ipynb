{
 "cells": [
  {
   "cell_type": "code",
   "execution_count": 1,
   "metadata": {},
   "outputs": [],
   "source": [
    "from math import log\n",
    "import matplotlib.pyplot as plt\n",
    "import numpy as np\n",
    "import os\n",
    "import pandas as pd"
   ]
  },
  {
   "cell_type": "code",
   "execution_count": 14,
   "metadata": {},
   "outputs": [
    {
     "name": "stdout",
     "output_type": "stream",
     "text": [
      "(1937, 20127)\n",
      "(1724, 20127)\n",
      "(3605, 20127)\n",
      "(1303, 20127)\n"
     ]
    }
   ],
   "source": [
    "file_names = ['GSM2230757_human1_umifm_counts.csv.gz', 'GSM2230758_human2_umifm_counts.csv.gz', \\\n",
    "              'GSM2230759_human3_umifm_counts.csv.gz', 'GSM2230760_human4_umifm_counts.csv.gz']\n",
    "base_path =  '/home/wanxinli/nSimplices/data/GSE84133_RAW'\n",
    "headers = []\n",
    "\n",
    "\n",
    "for file_name in file_names:\n",
    "    file_path = os.path.join(base_path, file_name)\n",
    "    count_df = pd.read_csv(file_path, header=0, index_col=0)\n",
    "    # print(count_df.head())\n",
    "    print(count_df.shape)\n",
    "    headers.append(count_df.columns)\n",
    "\n",
    "# count_array = np.array(count_df)\n",
    "# count_cell  = np.sum(count_array, axis=1)\n",
    "# print(count_cell)\n",
    "# print(max(count_cell))\n",
    "# plt.hist(count_cell)\n",
    "# plt.show()\n"
   ]
  },
  {
   "cell_type": "code",
   "execution_count": 20,
   "metadata": {},
   "outputs": [
    {
     "name": "stdout",
     "output_type": "stream",
     "text": [
      "                             A1BG  A1CF  A2M  A2ML1  A4GALT  A4GNT  AA06  \\\n",
      "human1_lib1.final_cell_0001     0     4    0      0       0      0     0   \n",
      "human1_lib1.final_cell_0002     0     0    0      0       0      0     0   \n",
      "human1_lib1.final_cell_0003     0     0    0      0       0      0     0   \n",
      "human1_lib1.final_cell_0004     0     0    0      0       0      0     0   \n",
      "human1_lib1.final_cell_0005     0     0    0      0       0      0     0   \n",
      "\n",
      "                             AAAS  AACS  AACSP1  ...  ZWILCH  ZWINT  ZXDA  \\\n",
      "human1_lib1.final_cell_0001     0     0       0  ...       0      0     0   \n",
      "human1_lib1.final_cell_0002     0     2       0  ...       0      0     0   \n",
      "human1_lib1.final_cell_0003     0     0       0  ...       0      0     0   \n",
      "human1_lib1.final_cell_0004     1     0       0  ...       1      0     0   \n",
      "human1_lib1.final_cell_0005     0     0       0  ...       0      0     0   \n",
      "\n",
      "                             ZXDB  ZXDC  ZYG11B  ZYX  ZZEF1  ZZZ3  pk  \n",
      "human1_lib1.final_cell_0001     0     0       0    2      0     0   1  \n",
      "human1_lib1.final_cell_0002     0     0       1    4      0     1   0  \n",
      "human1_lib1.final_cell_0003     0     0       0    0      0     0   0  \n",
      "human1_lib1.final_cell_0004     0     0       1    3      1     0   0  \n",
      "human1_lib1.final_cell_0005     0     0       0    1      0     0   1  \n",
      "\n",
      "[5 rows x 20125 columns]\n"
     ]
    }
   ],
   "source": [
    "base_path =  '/home/wanxinli/nSimplices/data/GSE84133_RAW'\n",
    "file_name = 'GSM2230757_human1_umifm_counts.csv.gz'\n",
    "\n",
    "file_path = os.path.join(base_path, file_name)\n",
    "count_df = pd.read_csv(file_path, header=0, index_col=0)\n",
    "count_df = count_df.drop(['barcode', 'assigned_cluster'], axis=1)\n",
    "print(count_df.head())\n",
    "# del count_df['barcode', 'assigned_cluster']\n"
   ]
  },
  {
   "cell_type": "code",
   "execution_count": 17,
   "metadata": {},
   "outputs": [
    {
     "data": {
      "text/plain": [
       "['macrophage',\n",
       " 'alpha',\n",
       " 'ductal',\n",
       " 't_cell',\n",
       " 'acinar',\n",
       " 'beta',\n",
       " 'epsilon',\n",
       " 'mast',\n",
       " 'activated_stellate',\n",
       " 'endothelial',\n",
       " 'quiescent_stellate',\n",
       " 'delta',\n",
       " 'schwann',\n",
       " 'gamma']"
      ]
     },
     "execution_count": 17,
     "metadata": {},
     "output_type": "execute_result"
    }
   ],
   "source": [
    "list(set(count_df['assigned_cluster']))"
   ]
  },
  {
   "cell_type": "code",
   "execution_count": 21,
   "metadata": {},
   "outputs": [
    {
     "name": "stdout",
     "output_type": "stream",
     "text": [
      "[22412 27953 16895 ...  1913  1746  1503]\n",
      "32472\n"
     ]
    },
    {
     "data": {
      "image/png": "[encoded data removed]",
      "text/plain": [
       "<Figure size 432x288 with 1 Axes>"
      ]
     },
     "metadata": {
      "needs_background": "light"
     },
     "output_type": "display_data"
    },
    {
     "name": "stdout",
     "output_type": "stream",
     "text": [
      "0\n",
      "1\n"
     ]
    },
    {
     "ename": "KeyboardInterrupt",
     "evalue": "",
     "output_type": "error",
     "traceback": [
      "\u001b[0;31m---------------------------------------------------------------------------\u001b[0m",
      "\u001b[0;31mValueError\u001b[0m                                Traceback (most recent call last)",
      "File \u001b[0;32m~/.local/lib/python3.8/site-packages/pandas/core/frame.py:3873\u001b[0m, in \u001b[0;36mDataFrame._set_value\u001b[0;34m(self, index, col, value, takeable)\u001b[0m\n\u001b[1;32m   3871\u001b[0m     \u001b[39m# setitem_inplace will do validation that may raise TypeError\u001b[39;00m\n\u001b[1;32m   3872\u001b[0m     \u001b[39m#  or ValueError\u001b[39;00m\n\u001b[0;32m-> 3873\u001b[0m     series\u001b[39m.\u001b[39;49m_mgr\u001b[39m.\u001b[39;49msetitem_inplace(loc, value)\n\u001b[1;32m   3875\u001b[0m \u001b[39mexcept\u001b[39;00m (\u001b[39mKeyError\u001b[39;00m, \u001b[39mTypeError\u001b[39;00m, \u001b[39mValueError\u001b[39;00m):\n\u001b[1;32m   3876\u001b[0m     \u001b[39m# set using a non-recursive method & reset the cache\u001b[39;00m\n",
      "File \u001b[0;32m~/.local/lib/python3.8/site-packages/pandas/core/internals/base.py:188\u001b[0m, in \u001b[0;36mSingleDataManager.setitem_inplace\u001b[0;34m(self, indexer, value)\u001b[0m\n\u001b[1;32m    185\u001b[0m \u001b[39mif\u001b[39;00m \u001b[39misinstance\u001b[39m(arr, np\u001b[39m.\u001b[39mndarray):\n\u001b[1;32m    186\u001b[0m     \u001b[39m# Note: checking for ndarray instead of np.dtype means we exclude\u001b[39;00m\n\u001b[1;32m    187\u001b[0m     \u001b[39m#  dt64/td64, which do their own validation.\u001b[39;00m\n\u001b[0;32m--> 188\u001b[0m     value \u001b[39m=\u001b[39m np_can_hold_element(arr\u001b[39m.\u001b[39;49mdtype, value)\n\u001b[1;32m    190\u001b[0m arr[indexer] \u001b[39m=\u001b[39m value\n",
      "File \u001b[0;32m~/.local/lib/python3.8/site-packages/pandas/core/dtypes/cast.py:2254\u001b[0m, in \u001b[0;36mnp_can_hold_element\u001b[0;34m(dtype, element)\u001b[0m\n\u001b[1;32m   2253\u001b[0m         \u001b[39mreturn\u001b[39;00m element\n\u001b[0;32m-> 2254\u001b[0m     \u001b[39mraise\u001b[39;00m \u001b[39mValueError\u001b[39;00m\n\u001b[1;32m   2256\u001b[0m \u001b[39melif\u001b[39;00m dtype\u001b[39m.\u001b[39mkind \u001b[39m==\u001b[39m \u001b[39m\"\u001b[39m\u001b[39mf\u001b[39m\u001b[39m\"\u001b[39m:\n",
      "\u001b[0;31mValueError\u001b[0m: ",
      "\nDuring handling of the above exception, another exception occurred:\n",
      "\u001b[0;31mKeyboardInterrupt\u001b[0m                         Traceback (most recent call last)",
      "\u001b[1;32m/home/wanxinli/nSimplices/data/GSE84133_RAW/log_convert.ipynb Cell 5\u001b[0m in \u001b[0;36m<cell line: 27>\u001b[0;34m()\u001b[0m\n\u001b[1;32m     <a href='vscode-notebook-cell://ssh-remote%2Bkddgpu1.math.ubc.ca/home/wanxinli/nSimplices/data/GSE84133_RAW/log_convert.ipynb#W5sdnNjb2RlLXJlbW90ZQ%3D%3D?line=27'>28</a>\u001b[0m \u001b[39mprint\u001b[39m(i)\n\u001b[1;32m     <a href='vscode-notebook-cell://ssh-remote%2Bkddgpu1.math.ubc.ca/home/wanxinli/nSimplices/data/GSE84133_RAW/log_convert.ipynb#W5sdnNjb2RlLXJlbW90ZQ%3D%3D?line=28'>29</a>\u001b[0m \u001b[39mfor\u001b[39;00m j \u001b[39min\u001b[39;00m \u001b[39mrange\u001b[39m(count_df\u001b[39m.\u001b[39mshape[\u001b[39m1\u001b[39m]):\n\u001b[1;32m     <a href='vscode-notebook-cell://ssh-remote%2Bkddgpu1.math.ubc.ca/home/wanxinli/nSimplices/data/GSE84133_RAW/log_convert.ipynb#W5sdnNjb2RlLXJlbW90ZQ%3D%3D?line=29'>30</a>\u001b[0m     \u001b[39m# print(j)\u001b[39;00m\n\u001b[0;32m---> <a href='vscode-notebook-cell://ssh-remote%2Bkddgpu1.math.ubc.ca/home/wanxinli/nSimplices/data/GSE84133_RAW/log_convert.ipynb#W5sdnNjb2RlLXJlbW90ZQ%3D%3D?line=30'>31</a>\u001b[0m     count_df\u001b[39m.\u001b[39miat[i, j] \u001b[39m=\u001b[39m custom_log(count_df\u001b[39m.\u001b[39miat[i, j], count_cell[i])\n",
      "File \u001b[0;32m~/.local/lib/python3.8/site-packages/pandas/core/indexing.py:2229\u001b[0m, in \u001b[0;36m_ScalarAccessIndexer.__setitem__\u001b[0;34m(self, key, value)\u001b[0m\n\u001b[1;32m   2226\u001b[0m \u001b[39mif\u001b[39;00m \u001b[39mlen\u001b[39m(key) \u001b[39m!=\u001b[39m \u001b[39mself\u001b[39m\u001b[39m.\u001b[39mndim:\n\u001b[1;32m   2227\u001b[0m     \u001b[39mraise\u001b[39;00m \u001b[39mValueError\u001b[39;00m(\u001b[39m\"\u001b[39m\u001b[39mNot enough indexers for scalar access (setting)!\u001b[39m\u001b[39m\"\u001b[39m)\n\u001b[0;32m-> 2229\u001b[0m \u001b[39mself\u001b[39;49m\u001b[39m.\u001b[39;49mobj\u001b[39m.\u001b[39;49m_set_value(\u001b[39m*\u001b[39;49mkey, value\u001b[39m=\u001b[39;49mvalue, takeable\u001b[39m=\u001b[39;49m\u001b[39mself\u001b[39;49m\u001b[39m.\u001b[39;49m_takeable)\n",
      "File \u001b[0;32m~/.local/lib/python3.8/site-packages/pandas/core/frame.py:3878\u001b[0m, in \u001b[0;36mDataFrame._set_value\u001b[0;34m(self, index, col, value, takeable)\u001b[0m\n\u001b[1;32m   3875\u001b[0m \u001b[39mexcept\u001b[39;00m (\u001b[39mKeyError\u001b[39;00m, \u001b[39mTypeError\u001b[39;00m, \u001b[39mValueError\u001b[39;00m):\n\u001b[1;32m   3876\u001b[0m     \u001b[39m# set using a non-recursive method & reset the cache\u001b[39;00m\n\u001b[1;32m   3877\u001b[0m     \u001b[39mif\u001b[39;00m takeable:\n\u001b[0;32m-> 3878\u001b[0m         \u001b[39mself\u001b[39m\u001b[39m.\u001b[39miloc[index, col] \u001b[39m=\u001b[39m value\n\u001b[1;32m   3879\u001b[0m     \u001b[39melse\u001b[39;00m:\n\u001b[1;32m   3880\u001b[0m         \u001b[39mself\u001b[39m\u001b[39m.\u001b[39mloc[index, col] \u001b[39m=\u001b[39m value\n",
      "File \u001b[0;32m~/.local/lib/python3.8/site-packages/pandas/core/indexing.py:716\u001b[0m, in \u001b[0;36m_LocationIndexer.__setitem__\u001b[0;34m(self, key, value)\u001b[0m\n\u001b[1;32m    713\u001b[0m \u001b[39mself\u001b[39m\u001b[39m.\u001b[39m_has_valid_setitem_indexer(key)\n\u001b[1;32m    715\u001b[0m iloc \u001b[39m=\u001b[39m \u001b[39mself\u001b[39m \u001b[39mif\u001b[39;00m \u001b[39mself\u001b[39m\u001b[39m.\u001b[39mname \u001b[39m==\u001b[39m \u001b[39m\"\u001b[39m\u001b[39miloc\u001b[39m\u001b[39m\"\u001b[39m \u001b[39melse\u001b[39;00m \u001b[39mself\u001b[39m\u001b[39m.\u001b[39mobj\u001b[39m.\u001b[39miloc\n\u001b[0;32m--> 716\u001b[0m iloc\u001b[39m.\u001b[39;49m_setitem_with_indexer(indexer, value, \u001b[39mself\u001b[39;49m\u001b[39m.\u001b[39;49mname)\n",
      "File \u001b[0;32m~/.local/lib/python3.8/site-packages/pandas/core/indexing.py:1688\u001b[0m, in \u001b[0;36m_iLocIndexer._setitem_with_indexer\u001b[0;34m(self, indexer, value, name)\u001b[0m\n\u001b[1;32m   1685\u001b[0m \u001b[39m# align and set the values\u001b[39;00m\n\u001b[1;32m   1686\u001b[0m \u001b[39mif\u001b[39;00m take_split_path:\n\u001b[1;32m   1687\u001b[0m     \u001b[39m# We have to operate column-wise\u001b[39;00m\n\u001b[0;32m-> 1688\u001b[0m     \u001b[39mself\u001b[39;49m\u001b[39m.\u001b[39;49m_setitem_with_indexer_split_path(indexer, value, name)\n\u001b[1;32m   1689\u001b[0m \u001b[39melse\u001b[39;00m:\n\u001b[1;32m   1690\u001b[0m     \u001b[39mself\u001b[39m\u001b[39m.\u001b[39m_setitem_single_block(indexer, value, name)\n",
      "File \u001b[0;32m~/.local/lib/python3.8/site-packages/pandas/core/indexing.py:1779\u001b[0m, in \u001b[0;36m_iLocIndexer._setitem_with_indexer_split_path\u001b[0;34m(self, indexer, value, name)\u001b[0m\n\u001b[1;32m   1775\u001b[0m \u001b[39melse\u001b[39;00m:\n\u001b[1;32m   1776\u001b[0m \n\u001b[1;32m   1777\u001b[0m     \u001b[39m# scalar value\u001b[39;00m\n\u001b[1;32m   1778\u001b[0m     \u001b[39mfor\u001b[39;00m loc \u001b[39min\u001b[39;00m ilocs:\n\u001b[0;32m-> 1779\u001b[0m         \u001b[39mself\u001b[39;49m\u001b[39m.\u001b[39;49m_setitem_single_column(loc, value, pi)\n",
      "File \u001b[0;32m~/.local/lib/python3.8/site-packages/pandas/core/indexing.py:1891\u001b[0m, in \u001b[0;36m_iLocIndexer._setitem_single_column\u001b[0;34m(self, loc, value, plane_indexer)\u001b[0m\n\u001b[1;32m   1887\u001b[0m     \u001b[39mif\u001b[39;00m ser\u001b[39m.\u001b[39m_values \u001b[39mis\u001b[39;00m orig_values:\n\u001b[1;32m   1888\u001b[0m         \u001b[39m# The setitem happened inplace, so the DataFrame's values\u001b[39;00m\n\u001b[1;32m   1889\u001b[0m         \u001b[39m#  were modified inplace.\u001b[39;00m\n\u001b[1;32m   1890\u001b[0m         \u001b[39mreturn\u001b[39;00m\n\u001b[0;32m-> 1891\u001b[0m     \u001b[39mself\u001b[39;49m\u001b[39m.\u001b[39;49mobj\u001b[39m.\u001b[39;49m_iset_item(loc, ser)\n\u001b[1;32m   1892\u001b[0m     \u001b[39mreturn\u001b[39;00m\n\u001b[1;32m   1894\u001b[0m \u001b[39m# reset the sliced object if unique\u001b[39;00m\n",
      "File \u001b[0;32m~/.local/lib/python3.8/site-packages/pandas/core/frame.py:3814\u001b[0m, in \u001b[0;36mDataFrame._iset_item\u001b[0;34m(self, loc, value)\u001b[0m\n\u001b[1;32m   3812\u001b[0m \u001b[39mdef\u001b[39;00m \u001b[39m_iset_item\u001b[39m(\u001b[39mself\u001b[39m, loc: \u001b[39mint\u001b[39m, value) \u001b[39m-\u001b[39m\u001b[39m>\u001b[39m \u001b[39mNone\u001b[39;00m:\n\u001b[1;32m   3813\u001b[0m     arraylike \u001b[39m=\u001b[39m \u001b[39mself\u001b[39m\u001b[39m.\u001b[39m_sanitize_column(value)\n\u001b[0;32m-> 3814\u001b[0m     \u001b[39mself\u001b[39;49m\u001b[39m.\u001b[39;49m_iset_item_mgr(loc, arraylike, inplace\u001b[39m=\u001b[39;49m\u001b[39mTrue\u001b[39;49;00m)\n\u001b[1;32m   3816\u001b[0m     \u001b[39m# check if we are modifying a copy\u001b[39;00m\n\u001b[1;32m   3817\u001b[0m     \u001b[39m# try to set first as we want an invalid\u001b[39;00m\n\u001b[1;32m   3818\u001b[0m     \u001b[39m# value exception to occur first\u001b[39;00m\n\u001b[1;32m   3819\u001b[0m     \u001b[39mif\u001b[39;00m \u001b[39mlen\u001b[39m(\u001b[39mself\u001b[39m):\n",
      "File \u001b[0;32m~/.local/lib/python3.8/site-packages/pandas/core/frame.py:3794\u001b[0m, in \u001b[0;36mDataFrame._iset_item_mgr\u001b[0;34m(self, loc, value, inplace)\u001b[0m\n\u001b[1;32m   3790\u001b[0m \u001b[39mdef\u001b[39;00m \u001b[39m_iset_item_mgr\u001b[39m(\n\u001b[1;32m   3791\u001b[0m     \u001b[39mself\u001b[39m, loc: \u001b[39mint\u001b[39m \u001b[39m|\u001b[39m \u001b[39mslice\u001b[39m \u001b[39m|\u001b[39m np\u001b[39m.\u001b[39mndarray, value, inplace: \u001b[39mbool\u001b[39m \u001b[39m=\u001b[39m \u001b[39mFalse\u001b[39;00m\n\u001b[1;32m   3792\u001b[0m ) \u001b[39m-\u001b[39m\u001b[39m>\u001b[39m \u001b[39mNone\u001b[39;00m:\n\u001b[1;32m   3793\u001b[0m     \u001b[39m# when called from _set_item_mgr loc can be anything returned from get_loc\u001b[39;00m\n\u001b[0;32m-> 3794\u001b[0m     \u001b[39mself\u001b[39;49m\u001b[39m.\u001b[39;49m_mgr\u001b[39m.\u001b[39;49miset(loc, value, inplace\u001b[39m=\u001b[39;49minplace)\n\u001b[1;32m   3795\u001b[0m     \u001b[39mself\u001b[39m\u001b[39m.\u001b[39m_clear_item_cache()\n",
      "File \u001b[0;32m~/.local/lib/python3.8/site-packages/pandas/core/internals/managers.py:1141\u001b[0m, in \u001b[0;36mBlockManager.iset\u001b[0;34m(self, loc, value, inplace)\u001b[0m\n\u001b[1;32m   1139\u001b[0m             removed_blknos\u001b[39m.\u001b[39mappend(blkno_l)\n\u001b[1;32m   1140\u001b[0m         \u001b[39melse\u001b[39;00m:\n\u001b[0;32m-> 1141\u001b[0m             blk\u001b[39m.\u001b[39;49mdelete(blk_locs)\n\u001b[1;32m   1142\u001b[0m             \u001b[39mself\u001b[39m\u001b[39m.\u001b[39m_blklocs[blk\u001b[39m.\u001b[39mmgr_locs\u001b[39m.\u001b[39mindexer] \u001b[39m=\u001b[39m np\u001b[39m.\u001b[39marange(\u001b[39mlen\u001b[39m(blk))\n\u001b[1;32m   1144\u001b[0m \u001b[39mif\u001b[39;00m \u001b[39mlen\u001b[39m(removed_blknos):\n\u001b[1;32m   1145\u001b[0m     \u001b[39m# Remove blocks & update blknos accordingly\u001b[39;00m\n",
      "File \u001b[0;32m~/.local/lib/python3.8/site-packages/pandas/core/internals/blocks.py:388\u001b[0m, in \u001b[0;36mBlock.delete\u001b[0;34m(self, loc)\u001b[0m\n\u001b[1;32m    379\u001b[0m \u001b[39m\"\"\"\u001b[39;00m\n\u001b[1;32m    380\u001b[0m \u001b[39mDelete given loc(-s) from block in-place.\u001b[39;00m\n\u001b[1;32m    381\u001b[0m \u001b[39m\"\"\"\u001b[39;00m\n\u001b[1;32m    382\u001b[0m \u001b[39m# Argument 1 to \"delete\" has incompatible type \"Union[ndarray[Any, Any],\u001b[39;00m\n\u001b[1;32m    383\u001b[0m \u001b[39m# ExtensionArray]\"; expected \"Union[_SupportsArray[dtype[Any]],\u001b[39;00m\n\u001b[1;32m    384\u001b[0m \u001b[39m# Sequence[_SupportsArray[dtype[Any]]], Sequence[Sequence\u001b[39;00m\n\u001b[1;32m    385\u001b[0m \u001b[39m# [_SupportsArray[dtype[Any]]]], Sequence[Sequence[Sequence[\u001b[39;00m\n\u001b[1;32m    386\u001b[0m \u001b[39m# _SupportsArray[dtype[Any]]]]], Sequence[Sequence[Sequence[Sequence[\u001b[39;00m\n\u001b[1;32m    387\u001b[0m \u001b[39m# _SupportsArray[dtype[Any]]]]]]]\"  [arg-type]\u001b[39;00m\n\u001b[0;32m--> 388\u001b[0m \u001b[39mself\u001b[39m\u001b[39m.\u001b[39mvalues \u001b[39m=\u001b[39m np\u001b[39m.\u001b[39;49mdelete(\u001b[39mself\u001b[39;49m\u001b[39m.\u001b[39;49mvalues, loc, \u001b[39m0\u001b[39;49m)  \u001b[39m# type: ignore[arg-type]\u001b[39;00m\n\u001b[1;32m    389\u001b[0m \u001b[39mself\u001b[39m\u001b[39m.\u001b[39mmgr_locs \u001b[39m=\u001b[39m \u001b[39mself\u001b[39m\u001b[39m.\u001b[39m_mgr_locs\u001b[39m.\u001b[39mdelete(loc)\n\u001b[1;32m    390\u001b[0m \u001b[39mtry\u001b[39;00m:\n",
      "File \u001b[0;32m<__array_function__ internals>:5\u001b[0m, in \u001b[0;36mdelete\u001b[0;34m(*args, **kwargs)\u001b[0m\n",
      "File \u001b[0;32m/usr/local/lib/python3.8/dist-packages/numpy/lib/function_base.py:4483\u001b[0m, in \u001b[0;36mdelete\u001b[0;34m(arr, obj, axis)\u001b[0m\n\u001b[1;32m   4480\u001b[0m         keep[obj,] \u001b[39m=\u001b[39m \u001b[39mFalse\u001b[39;00m\n\u001b[1;32m   4482\u001b[0m     slobj[axis] \u001b[39m=\u001b[39m keep\n\u001b[0;32m-> 4483\u001b[0m     new \u001b[39m=\u001b[39m arr[\u001b[39mtuple\u001b[39;49m(slobj)]\n\u001b[1;32m   4485\u001b[0m \u001b[39mif\u001b[39;00m wrap:\n\u001b[1;32m   4486\u001b[0m     \u001b[39mreturn\u001b[39;00m wrap(new)\n",
      "\u001b[0;31mKeyboardInterrupt\u001b[0m: "
     ]
    }
   ],
   "source": [
    "count_array = np.array(count_df)\n",
    "count_cell  = np.sum(count_array, axis=1)\n",
    "print(count_cell)\n",
    "print(max(count_cell))\n",
    "plt.hist(count_cell)\n",
    "plt.show()\n",
    "\n",
    "\n",
    "# In[3]:\n",
    "\n",
    "\n",
    "count_df\n",
    "\n",
    "\n",
    "# In[4]:\n",
    "\n",
    "\n",
    "def custom_log(count, total_count):\n",
    "    if count == 0:\n",
    "        return 0\n",
    "    return log(count/total_count*(10**4)+1)\n",
    "\n",
    "\n",
    "# In[5]:\n",
    "\n",
    "\n",
    "for i in range(count_df.shape[0]):\n",
    "    print(i)\n",
    "    for j in range(count_df.shape[1]):\n",
    "        # print(j)\n",
    "        count_df.iat[i, j] = custom_log(count_df.iat[i, j], count_cell[i])"
   ]
  },
  {
   "cell_type": "code",
   "execution_count": null,
   "metadata": {},
   "outputs": [],
   "source": []
  }
 ],
 "metadata": {
  "kernelspec": {
   "display_name": "Python 3",
   "language": "python",
   "name": "python3"
  },
  "language_info": {
   "codemirror_mode": {
    "name": "ipython",
    "version": 3
   },
   "file_extension": ".py",
   "mimetype": "text/x-python",
   "name": "python",
   "nbconvert_exporter": "python",
   "pygments_lexer": "ipython3",
   "version": "3.8.10"
  },
  "orig_nbformat": 4
 },
 "nbformat": 4,
 "nbformat_minor": 2
}
