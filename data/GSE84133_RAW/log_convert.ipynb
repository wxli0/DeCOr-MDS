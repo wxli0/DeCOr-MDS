{
 "cells": [
  {
   "cell_type": "code",
   "execution_count": 1,
   "metadata": {},
   "outputs": [],
   "source": [
    "from math import log\n",
    "import matplotlib.pyplot as plt\n",
    "import numpy as np\n",
    "import os\n",
    "import pandas as pd"
   ]
  },
  {
   "cell_type": "code",
   "execution_count": 14,
   "metadata": {},
   "outputs": [
    {
     "name": "stdout",
     "output_type": "stream",
     "text": [
      "(1937, 20127)\n",
      "(1724, 20127)\n",
      "(3605, 20127)\n",
      "(1303, 20127)\n"
     ]
    }
   ],
   "source": [
    "file_names = ['GSM2230757_human1_umifm_counts.csv.gz', 'GSM2230758_human2_umifm_counts.csv.gz', \\\n",
    "              'GSM2230759_human3_umifm_counts.csv.gz', 'GSM2230760_human4_umifm_counts.csv.gz']\n",
    "base_path =  '/home/wanxinli/nSimplices/data/GSE84133_RAW'\n",
    "headers = []\n",
    "\n",
    "\n",
    "for file_name in file_names:\n",
    "    file_path = os.path.join(base_path, file_name)\n",
    "    count_df = pd.read_csv(file_path, header=0, index_col=0)\n",
    "    # print(count_df.head())\n",
    "    print(count_df.shape)\n",
    "    headers.append(count_df.columns)\n",
    "\n",
    "# count_array = np.array(count_df)\n",
    "# count_cell  = np.sum(count_array, axis=1)\n",
    "# print(count_cell)\n",
    "# print(max(count_cell))\n",
    "# plt.hist(count_cell)\n",
    "# plt.show()\n"
   ]
  },
  {
   "cell_type": "code",
   "execution_count": 20,
   "metadata": {},
   "outputs": [
    {
     "name": "stdout",
     "output_type": "stream",
     "text": [
      "                             A1BG  A1CF  A2M  A2ML1  A4GALT  A4GNT  AA06  \\\n",
      "human1_lib1.final_cell_0001     0     4    0      0       0      0     0   \n",
      "human1_lib1.final_cell_0002     0     0    0      0       0      0     0   \n",
      "human1_lib1.final_cell_0003     0     0    0      0       0      0     0   \n",
      "human1_lib1.final_cell_0004     0     0    0      0       0      0     0   \n",
      "human1_lib1.final_cell_0005     0     0    0      0       0      0     0   \n",
      "\n",
      "                             AAAS  AACS  AACSP1  ...  ZWILCH  ZWINT  ZXDA  \\\n",
      "human1_lib1.final_cell_0001     0     0       0  ...       0      0     0   \n",
      "human1_lib1.final_cell_0002     0     2       0  ...       0      0     0   \n",
      "human1_lib1.final_cell_0003     0     0       0  ...       0      0     0   \n",
      "human1_lib1.final_cell_0004     1     0       0  ...       1      0     0   \n",
      "human1_lib1.final_cell_0005     0     0       0  ...       0      0     0   \n",
      "\n",
      "                             ZXDB  ZXDC  ZYG11B  ZYX  ZZEF1  ZZZ3  pk  \n",
      "human1_lib1.final_cell_0001     0     0       0    2      0     0   1  \n",
      "human1_lib1.final_cell_0002     0     0       1    4      0     1   0  \n",
      "human1_lib1.final_cell_0003     0     0       0    0      0     0   0  \n",
      "human1_lib1.final_cell_0004     0     0       1    3      1     0   0  \n",
      "human1_lib1.final_cell_0005     0     0       0    1      0     0   1  \n",
      "\n",
      "[5 rows x 20125 columns]\n"
     ]
    }
   ],
   "source": [
    "base_path =  '/home/wanxinli/nSimplices/data/GSE84133_RAW'\n",
    "file_name = 'GSM2230757_human1_umifm_counts.csv.gz'\n",
    "\n",
    "file_path = os.path.join(base_path, file_name)\n",
    "count_df = pd.read_csv(file_path, header=0, index_col=0)\n",
    "count_df = count_df.drop(['barcode', 'assigned_cluster'], axis=1)\n",
    "print(count_df.head())\n",
    "# del count_df['barcode', 'assigned_cluster']\n"
   ]
  },
  {
   "cell_type": "code",
   "execution_count": 17,
   "metadata": {},
   "outputs": [
    {
     "data": {
      "text/plain": [
       "['macrophage',\n",
       " 'alpha',\n",
       " 'ductal',\n",
       " 't_cell',\n",
       " 'acinar',\n",
       " 'beta',\n",
       " 'epsilon',\n",
       " 'mast',\n",
       " 'activated_stellate',\n",
       " 'endothelial',\n",
       " 'quiescent_stellate',\n",
       " 'delta',\n",
       " 'schwann',\n",
       " 'gamma']"
      ]
     },
     "execution_count": 17,
     "metadata": {},
     "output_type": "execute_result"
    }
   ],
   "source": [
    "list(set(count_df['assigned_cluster']))"
   ]
  },
  {
   "cell_type": "code",
   "execution_count": null,
   "metadata": {},
   "outputs": [],
   "source": [
    "count_array = np.array(count_df)\n",
    "count_cell  = np.sum(count_array, axis=1)\n",
    "print(count_cell)\n",
    "print(max(count_cell))\n",
    "plt.hist(count_cell)\n",
    "plt.show()\n",
    "\n",
    "\n",
    "# In[3]:\n",
    "\n",
    "\n",
    "count_df\n",
    "\n",
    "\n",
    "# In[4]:\n",
    "\n",
    "\n",
    "def custom_log(count, total_count):\n",
    "    if count == 0:\n",
    "        return 0\n",
    "    return log(count/total_count*(10**4)+1)\n",
    "\n",
    "\n",
    "# In[5]:\n",
    "\n",
    "\n",
    "for i in range(count_df.shape[0]):\n",
    "    print(i)\n",
    "    for j in range(count_df.shape[1]):\n",
    "        # print(j)\n",
    "        count_df.iat[i, j] = custom_log(count_df.iat[i, j], count_cell[i])"
   ]
  }
 ],
 "metadata": {
  "kernelspec": {
   "display_name": "Python 3",
   "language": "python",
   "name": "python3"
  },
  "language_info": {
   "codemirror_mode": {
    "name": "ipython",
    "version": 3
   },
   "file_extension": ".py",
   "mimetype": "text/x-python",
   "name": "python",
   "nbconvert_exporter": "python",
   "pygments_lexer": "ipython3",
   "version": "3.8.10"
  },
  "orig_nbformat": 4
 },
 "nbformat": 4,
 "nbformat_minor": 2
}
