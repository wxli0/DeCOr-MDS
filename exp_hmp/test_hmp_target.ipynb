{
 "cells": [
  {
   "cell_type": "code",
   "execution_count": 1,
   "metadata": {},
   "outputs": [
    {
     "data": {
      "text/plain": [
       "' \\nRun nSimplices + MDS vs MDS on subset (STOOL and VAGINA only) of HMP dataset \\n'"
      ]
     },
     "execution_count": 1,
     "metadata": {},
     "output_type": "execute_result"
    }
   ],
   "source": [
    "\"\"\" \n",
    "Run nSimplices + MDS vs MDS on subset (STOOL and VAGINA only) of HMP dataset \n",
    "\"\"\""
   ]
  },
  {
   "cell_type": "code",
   "execution_count": 2,
   "metadata": {},
   "outputs": [],
   "source": [
    "import numpy as np\n",
    "import matplotlib\n",
    "matplotlib.use('Agg')\n",
    "import matplotlib.pyplot as plt\n",
    "import os\n",
    "import pandas as pd\n",
    "import random as alea\n",
    "from scipy.spatial.distance import pdist, squareform\n",
    "from sklearn.manifold import MDS\n",
    "import plotly.express as px\n",
    "\n",
    "\n",
    "data_dir = \"../data/\"\n",
    "output_dir = \"../outputs\"\n",
    "# target_sites = ['STOOL', 'VAGINA', 'THROAT']\n",
    "# target_id = \"SVT\"\n",
    "# target_colors = [\"cornflowerblue\", \"orange\", \"deeppink\"]\n",
    "\n",
    "# target_sites = ['STOOL', 'VAGINA']\n",
    "# target_id = \"SV\"\n",
    "# target_colors = [\"cornflowerblue\", \"orange\"]\n",
    "\n",
    "target_sites = ['EARS']\n",
    "target_id = \"E\"\n",
    "target_colors = [\"black\"]\n"
   ]
  },
  {
   "cell_type": "code",
   "execution_count": 3,
   "metadata": {},
   "outputs": [],
   "source": [
    "\"\"\"\n",
    "Prepare dataset\n",
    "\"\"\"\n",
    "\n",
    "# iterate over QE and NB\n",
    "files = [\"hmp_v13lqphylotypeQuantNB_rs_c.csv\", \"hmp_v13lqphylotypeQuantE_rs_c.csv\"]\n",
    "color_df = pd.read_csv(os.path.join(data_dir, \"hmp_v13lqphylotypePheno_rs_c.csv\"), header=0)\n",
    "\n",
    "for file in files:\n",
    "    data_path = os.path.join(data_dir, file)\n",
    "    df_hmp_ori = np.loadtxt(data_path, delimiter=\",\")\n",
    "    df_hmp = []\n",
    "\n",
    "\n",
    "    for index, row in color_df.iterrows():\n",
    "        site_exist = False\n",
    "        for site in target_sites:\n",
    "            if row[site]:\n",
    "                site_exist = True\n",
    "        if site_exist:\n",
    "            df_hmp.append(df_hmp_ori[index])\n",
    "    df_hmp = np.array(df_hmp)\n",
    "    np.savetxt(os.path.join(data_dir, file[:-8]+\"target_\"+target_id+\"_\"+file[-8:]), df_hmp, fmt='%1.17f', delimiter=',')\n"
   ]
  },
  {
   "cell_type": "code",
   "execution_count": 4,
   "metadata": {},
   "outputs": [
    {
     "name": "stdout",
     "output_type": "stream",
     "text": [
      "(296,)\n"
     ]
    }
   ],
   "source": [
    "\"\"\" \n",
    "Prepare colors\n",
    "\"\"\"\n",
    "\n",
    "colors = []\n",
    "new_color_df = color_df.copy(deep = True)\n",
    "drop_indices = []\n",
    "\n",
    "for index, row in color_df.iterrows():\n",
    "    site_exist = False\n",
    "    for i in range(len(target_sites)):\n",
    "        site = target_sites[i]\n",
    "        if row[site]:\n",
    "            colors.append(target_colors[i])\n",
    "            site_exist = True\n",
    "    if not site_exist:\n",
    "        drop_indices.append(index)\n",
    "\n",
    "colors = np.array(colors)\n",
    "print(colors.shape)\n",
    "\n",
    "np.savetxt(os.path.join(data_dir, \"hmp_target_\"+target_id+\"_\"+\"colors.txt\"), colors, fmt=\"%s\")\n",
    "\n",
    "new_color_df = new_color_df.drop(drop_indices)\n",
    "new_color_df.to_csv(os.path.join(data_dir, \"hmp_v13lqphylotypePheno_target_\"+target_id+\"_\"+\"rs_c.csv\"), header=True, index=False)"
   ]
  },
  {
   "cell_type": "code",
   "execution_count": 5,
   "metadata": {},
   "outputs": [],
   "source": [
    "\"\"\" \n",
    "Run nSimplices on HMP dataset\n",
    "\"\"\"\n",
    "colors = np.loadtxt(os.path.join(data_dir, \"hmp_target_\"+target_id+\"_\"+\"colors.txt\"), dtype=\"str\")\n",
    "exec(open(\"../nsimplices.py\").read())\n",
    "alea.seed(42)\n"
   ]
  },
  {
   "cell_type": "code",
   "execution_count": 6,
   "metadata": {},
   "outputs": [
    {
     "name": "stdout",
     "output_type": "stream",
     "text": [
      "======== NB/QE normalization + nSimplices + cMDS ========\n",
      "hmp_dis_sq shape is: (296, 296)\n",
      "dim in find_subspace_dim is: 2\n",
      "dim in find_subspace_dim is: 3\n",
      "dim in find_subspace_dim is: 4\n",
      "dim in find_subspace_dim is: 5\n",
      "dim in find_subspace_dim is: 6\n",
      "dim in find_subspace_dim is: 7\n",
      "dim in find_subspace_dim is: 8\n",
      "dim in find_subspace_dim is: 9\n",
      "dim in find_subspace_dim is: 10\n",
      "dim in find_subspace_dim is: 11\n",
      "dim in find_subspace_dim is: 12\n",
      "dim in find_subspace_dim is: 13\n",
      "dim in find_subspace_dim is: 14\n",
      "dim in find_subspace_dim is: 15\n",
      "dim in find_subspace_dim is: 16\n",
      "dim in find_subspace_dim is: 17\n",
      "dim in find_subspace_dim is: 18\n",
      "dim in find_subspace_dim is: 19\n",
      "dim in find_subspace_dim is: 20\n",
      "dim in find_subspace_dim is: 21\n",
      "dim in find_subspace_dim is: 22\n",
      "dim in find_subspace_dim is: 23\n",
      "dim in find_subspace_dim is: 24\n",
      "dim in find_subspace_dim is: 25\n",
      "dim in find_subspace_dim is: 26\n",
      "dim in find_subspace_dim is: 27\n",
      "dim in find_subspace_dim is: 28\n",
      "dim in find_subspace_dim is: 29\n",
      "dim in find_subspace_dim is: 30\n",
      "dim in find_subspace_dim is: 31\n",
      "dim in find_subspace_dim is: 32\n",
      "dim in find_subspace_dim is: 33\n",
      "dim in find_subspace_dim is: 34\n",
      "dim in find_subspace_dim is: 35\n",
      "dim in find_subspace_dim is: 36\n",
      "dim in find_subspace_dim is: 37\n",
      "dim in find_subspace_dim is: 38\n",
      "dim in find_subspace_dim is: 39\n",
      "dim in find_subspace_dim is: 40\n",
      "dim in find_subspace_dim is: 41\n",
      "dim in find_subspace_dim is: 42\n",
      "dim in find_subspace_dim is: 43\n",
      "dim in find_subspace_dim is: 44\n",
      "dim in find_subspace_dim is: 45\n",
      "dim in find_subspace_dim is: 46\n",
      "dim in find_subspace_dim is: 47\n",
      "dim in find_subspace_dim is: 48\n"
     ]
    }
   ],
   "source": [
    "\"\"\" \n",
    "Run\n",
    "(1) NB normalization + nSimplices + cMDS \n",
    "(2) QE normalization + nSimplices + cMDS \n",
    "\n",
    "To derive the axes data\n",
    "\"\"\" \n",
    "\n",
    "output_files = [\"hmp_target_\"+target_id+\"_\"+\"NB_nSimplices_cMDS_axes.txt\", \"hmp_target_\"+target_id+\"_\"+\"QE_nSimplices_cMDS_axes.txt\"]\n",
    "data_files = [\"hmp_v13lqphylotypeQuantNB_target_\"+target_id+\"_\"+\"rs_c.csv\", \"hmp_v13lqphylotypeQuantE_target_\"+target_id+\"_\"+\"rs_c.csv\"]\n",
    "subspace_dims = []\n",
    "outlier_indices_list = []\n",
    "for i in range(len(output_files)):\n",
    "    output_file = output_files[i]\n",
    "    data_file = data_files[i]\n",
    "    axes_output_path = os.path.join(output_dir, output_file)\n",
    "    print(\"======== NB/QE normalization + nSimplices + cMDS ========\")\n",
    "    data_path = os.path.join(data_dir, data_file)\n",
    "    df_hmp = np.loadtxt(data_path, delimiter=\",\")\n",
    "    hmp_dis_sq=squareform(pdist(df_hmp))\n",
    "\n",
    "    feature_num = df_hmp.shape[1]\n",
    "    dim_start = 2\n",
    "    dim_end = 50\n",
    "\n",
    "    print(\"hmp_dis_sq shape is:\", hmp_dis_sq.shape)\n",
    "    outlier_indices, subspace_dim , corr_pairwise_dis, corr_coord = nsimplices(hmp_dis_sq, feature_num, dim_start, dim_end, std_multi=2)\n",
    "    print(\"subspace dimension is:\", subspace_dim)\n",
    "    subspace_dims.append(subspace_dim)\n",
    "    outlier_indices_list.append(outlier_indices)\n",
    "\n",
    "    # run cMDS to get the corrected coordinates in importance decreasing order\n",
    "    _, _, Xe = cMDS(corr_pairwise_dis)\n",
    "    np.savetxt(axes_output_path, Xe, fmt='%f')\n"
   ]
  },
  {
   "cell_type": "code",
   "execution_count": null,
   "metadata": {},
   "outputs": [],
   "source": [
    "\"\"\" \n",
    "Inferred dimension\n",
    "QE: STOOL - 3, VAGINA - 3, THROAT - 3, EARS - , NOSE - , ELBOWS - , MOUTH - \n",
    "NB: STOOL - 41, VAGINA - 5, THROAT - \n",
    "\n",
    "\"\"\""
   ]
  },
  {
   "cell_type": "code",
   "execution_count": null,
   "metadata": {},
   "outputs": [
    {
     "name": "stdout",
     "output_type": "stream",
     "text": [
      "======== QE/NB normalization + MDS + cMDS ========\n",
      "feature_num is: 425\n"
     ]
    },
    {
     "name": "stderr",
     "output_type": "stream",
     "text": [
      "/home/wanxinli/.local/lib/python3.9/site-packages/sklearn/manifold/_mds.py:299: FutureWarning: The default value of `normalized_stress` will change to `'auto'` in version 1.4. To suppress this warning, manually set the value of `normalized_stress`.\n",
      "  warnings.warn(\n"
     ]
    },
    {
     "name": "stdout",
     "output_type": "stream",
     "text": [
      "======== QE/NB normalization + MDS + cMDS ========\n",
      "feature_num is: 425\n"
     ]
    },
    {
     "name": "stderr",
     "output_type": "stream",
     "text": [
      "/home/wanxinli/.local/lib/python3.9/site-packages/sklearn/manifold/_mds.py:299: FutureWarning: The default value of `normalized_stress` will change to `'auto'` in version 1.4. To suppress this warning, manually set the value of `normalized_stress`.\n",
      "  warnings.warn(\n"
     ]
    }
   ],
   "source": [
    "\"\"\" \n",
    "Run\n",
    "(1) NB normalization + cMDS \n",
    "(2) QE normalization + cMDS \n",
    "\n",
    "To derive the axes data\n",
    "\"\"\"  \n",
    "\n",
    "axes_files = [\"hmp_target_\"+target_id+\"_\"+\"NB_MDS_cMDS_axes.txt\", \"hmp_target_\"+target_id+\"_\"+\"QE_MDS_cMDS_axes.txt\"] # put NB before QE\n",
    "data_files = [\"hmp_v13lqphylotypeQuantNB_target_\"+target_id+\"_\"+\"rs_c.csv\", \"hmp_v13lqphylotypeQuantE_target_\"+target_id+\"_\"+\"rs_c.csv\"]\n",
    "\n",
    "for i in range(len(axes_files)):\n",
    "    axes_file = axes_files[i]\n",
    "    data_file = data_files[i]\n",
    "\n",
    "    print(\"======== QE/NB normalization + MDS + cMDS ========\")\n",
    "    data_path = os.path.join(data_dir, data_file)\n",
    "    axes_output_path = os.path.join(output_dir, axes_file)\n",
    "\n",
    "    df_hmp = np.loadtxt(data_path, delimiter=\",\")\n",
    "    hmp_dis_sq=squareform(pdist(df_hmp))\n",
    "\n",
    "    # Plot cMDS embedding using the pairs of axis from the four most significant axes \n",
    "    # enforce_dim = subspace_dims[i] # enforcing the dimension to be consistent with nSimplices QE+nsimplices+cMDS\n",
    "    feature_num = df_hmp.shape[1]\n",
    "    print(\"feature_num is:\", feature_num)\n",
    "    embedding = MDS(n_components=feature_num, max_iter=100000000000, dissimilarity='precomputed') \n",
    "    corr_coord = embedding.fit_transform(hmp_dis_sq)\n",
    "    corr_dis_sq=squareform(pdist(corr_coord))\n",
    "    _, _, Xe = cMDS(corr_dis_sq)\n",
    "\n",
    "    np.savetxt(axes_output_path, Xe, fmt='%f')"
   ]
  },
  {
   "cell_type": "code",
   "execution_count": null,
   "metadata": {},
   "outputs": [
    {
     "name": "stdout",
     "output_type": "stream",
     "text": [
      "======== plot pairwise 2D plot (subset) ========\n",
      "(134, 121)\n",
      "======== plot pairwise 2D plot (subset) ========\n",
      "(134, 125)\n",
      "======== plot pairwise 2D plot (subset) ========\n",
      "(134, 134)\n",
      "======== plot pairwise 2D plot (subset) ========\n",
      "(134, 134)\n"
     ]
    }
   ],
   "source": [
    "\"\"\" \n",
    "Plot pairwise result\n",
    "\"\"\"\n",
    "\n",
    "figure_files = [\"hmp_target_\"+target_id+\"_\"+\"NB_nSimplices_cMDS.png\", \\\n",
    "    \"hmp_target_\"+target_id+\"_\"+\"QE_nSimplices_cMDS.png\", \\\n",
    "    \"hmp_target_\"+target_id+\"_\"+\"NB_MDS_cMDS.png\", \\\n",
    "    \"hmp_target_\"+target_id+\"_\"+\"QE_MDS_cMDS.png\"]\n",
    "axes_files = [\"hmp_target_\"+target_id+\"_\"+\"NB_nSimplices_cMDS_axes.txt\", \\\n",
    "    \"hmp_target_\"+target_id+\"_\"+\"QE_nSimplices_cMDS_axes.txt\", \\\n",
    "    \"hmp_target_\"+target_id+\"_\"+\"NB_MDS_cMDS_axes.txt\", \\\n",
    "    \"hmp_target_\"+target_id+\"_\"+\"QE_MDS_cMDS_axes.txt\"]\n",
    "titles = [\"NB+nSimplices\", \"QuantE+nSimplices\", \"NB+MDS\", \"QuantE+MDS\"]\n",
    "num_axes = 3 # show pairwise 2D plot to decompose the 3D plot\n",
    "\n",
    "for i in range(len(figure_files)):\n",
    "    figure_file = figure_files[i]\n",
    "    axes_file = axes_files[i]\n",
    "    title = titles[i]\n",
    "    outlier_indices = None\n",
    "    if 'nSimplices' in figure_file:\n",
    "        outlier_indices = outlier_indices_list[i]\n",
    "\n",
    "    print(\"======== plot pairwise 2D plot (subset) ========\")\n",
    "    Xe = np.loadtxt(os.path.join(output_dir, axes_file))\n",
    "    print(Xe.shape)\n",
    "    for first_dim in range(num_axes):\n",
    "        for second_dim in range(first_dim+1, num_axes):\n",
    "            plt.figure()\n",
    "            \n",
    "            target_indices = []\n",
    "            for color in target_colors:\n",
    "                cur_indices = [i for i, e in enumerate(colors) if e == color]\n",
    "                target_indices.append(cur_indices)\n",
    "            # stool_indices = [i for i, e in enumerate(colors) if e == 'cornflowerblue']\n",
    "            # ears_indices = [i for i, e in enumerate(colors) if e == 'orange']\n",
    "\n",
    "            for i in range(len(target_colors)):\n",
    "                color = target_colors[i]\n",
    "                site = target_sites[i]\n",
    "                site_indices = target_indices[i]\n",
    "                \n",
    "                if 'nSimplices' not in figure_file:\n",
    "                    plt.scatter(Xe[site_indices, second_dim], \\\n",
    "                    Xe[site_indices, first_dim], s=5, c=color, label = site)\n",
    "                else:\n",
    "                    site_outlier_indices = list(set(site_indices) & set(outlier_indices))\n",
    "                    site_normal_indices = list(set(site_indices) - set(outlier_indices))\n",
    "                \n",
    "                    plt.scatter(Xe[site_normal_indices, second_dim], \\\n",
    "                        Xe[site_normal_indices, first_dim], s=5, c=color, label = site)\n",
    "                    plt.scatter(Xe[site_outlier_indices, second_dim], \\\n",
    "                        Xe[site_outlier_indices, first_dim], s=5, c=color, label = site+\" outlier\", marker=\"x\")\n",
    "                    \n",
    "            plt.legend()\n",
    "            plt.title(title, size=10)   \n",
    "            plt.savefig(os.path.join(output_dir, figure_file[:-4]+\"_\"+str(first_dim)+\"_\"+str(second_dim)+\".png\"))\n",
    "            "
   ]
  },
  {
   "cell_type": "code",
   "execution_count": null,
   "metadata": {},
   "outputs": [],
   "source": [
    "def color_to_site(color):\n",
    "    \"\"\"\n",
    "    Returns the color to site mapping\n",
    "    \"\"\"\n",
    "    if color == \"deeppink\":\n",
    "        return \"THROAT\"\n",
    "    if color == \"black\":\n",
    "        return \"EARS\"\n",
    "    if color == \"cornflowerblue\":\n",
    "        return \"STOOL\"\n",
    "    if color == \"darkgreen\":\n",
    "        return \"NOSE\"\n",
    "    if color == \"red\":\n",
    "        return \"ELBOWS\"\n",
    "    if color == \"gray\":\n",
    "        return \"MOUTH\"\n",
    "    if color == \"orange\":\n",
    "        return \"VAGINA\""
   ]
  },
  {
   "cell_type": "code",
   "execution_count": null,
   "metadata": {},
   "outputs": [
    {
     "name": "stdout",
     "output_type": "stream",
     "text": [
      "{'out': 'cross', 'nor': 'circle'}\n",
      "{'out': 'cross', 'nor': 'circle'}\n",
      "{'out': 'cross', 'nor': 'circle'}\n",
      "{'out': 'cross', 'nor': 'circle'}\n",
      "{'out': 'cross', 'nor': 'circle'}\n",
      "{'out': 'cross', 'nor': 'circle'}\n",
      "{'out': 'cross', 'nor': 'circle'}\n",
      "{'out': 'cross', 'nor': 'circle'}\n"
     ]
    }
   ],
   "source": [
    "\"\"\" \n",
    "generate 3D plot of the first three axes \n",
    "\"\"\"\n",
    "\n",
    "axes_files = [\"hmp_target_\"+target_id+\"_\"+\"NB_nSimplices_cMDS_axes.txt\", \\\n",
    "    \"hmp_target_\"+target_id+\"_\"+\"QE_nSimplices_cMDS_axes.txt\", \\\n",
    "    \"hmp_target_\"+target_id+\"_\"+\"NB_MDS_cMDS_axes.txt\", \\\n",
    "    \"hmp_target_\"+target_id+\"_\"+\"QE_MDS_cMDS_axes.txt\"]\n",
    "    \n",
    "\n",
    "figure_files = [\"hmp_target_\"+target_id+\"_\"+\"NB_nSimplices_cMDS.html\", \\\n",
    "    \"hmp_target_\"+target_id+\"_\"+\"QE_nSimplices_cMDS.html\",\\\n",
    "    \"hmp_target_\"+target_id+\"_\"+\"NB_MDS_cMDS.html\", \\\n",
    "    \"hmp_target_\"+target_id+\"_\"+\"QE_MDS_cMDS.html\"]\n",
    "\n",
    "\n",
    "\n",
    "for i in range(len(axes_files)):\n",
    "    axes_file = axes_files[i]\n",
    "    figure_file = figure_files[i]\n",
    "    outlier_indices = outlier_indices_list[i%2]\n",
    "    normal_indices = list(set(list(range(Xe.shape[0]))) - set(outlier_indices))\n",
    "    Xe = np.loadtxt(os.path.join(output_dir, axes_file))\n",
    "    color_discrete_map = {'STOOL': 'cornflowerblue', 'VAGINA': 'orange', 'THROAT': 'deeppink',\\\n",
    "        \"EARS\": 'black', \"NOSE\": \"darkgreen\", \"ELBOWS\": 'red', \"MOUTH\": 'grey' }\n",
    "\n",
    "\n",
    "    Xe_df = pd.DataFrame(Xe[:,:3], columns = [\"axis_0\", \"axis_1\", \"axis_2\"])\n",
    "    Xe_df['color'] = colors\n",
    "    Xe_df['label'] = \\\n",
    "        Xe_df.apply(lambda row: color_to_site(row['color']), axis=1)\n",
    "    outlier_indicator = np.array(['nor']*len(colors))\n",
    "    outlier_indicator[outlier_indices] = \"out\"\n",
    "    Xe_df['outlier'] = outlier_indicator.tolist()\n",
    "\n",
    "        # specify trace names and symbols in a dict\n",
    "    symbols = {'out': 'cross',\n",
    "            'nor':'circle'}\n",
    "\n",
    "    \n",
    "\n",
    "    fig = px.scatter_3d(Xe_df, x='axis_0', y='axis_1', z='axis_2',\n",
    "            color='label', color_discrete_map=color_discrete_map, symbol='outlier')\n",
    "    # set all symbols in fig\n",
    "    # print(len(fig.data))\n",
    "    # fig.data[1].marker.symbol = 'cross'\n",
    "    # fig.data[3].marker.symbol = 'cross'\n",
    "    # fig.data[2].marker.symbol = 'circle'\n",
    "    # fig.data[2].marker.symbol = 'circle'\n",
    "\n",
    "    for i, d in enumerate(fig.data):\n",
    "        # fig.data[i].marker.symbol = symbols[fig.data[i].name] \n",
    "        print(symbols)\n",
    "        fig.data[i].marker.symbol = symbols[fig.data[i].name.split(',')[1].strip()] \n",
    "\n",
    "\n",
    "\n",
    "            \n",
    "    fig.update_layout(scene = dict(\n",
    "                    xaxis_title='axis 0',\n",
    "                    yaxis_title='axis 1',\n",
    "                    zaxis_title='axis 2'))\n",
    "    fig.write_html(os.path.join(output_dir, figure_file))\n",
    "\n",
    "\n"
   ]
  }
 ],
 "metadata": {
  "kernelspec": {
   "display_name": "Python 3",
   "language": "python",
   "name": "python3"
  },
  "language_info": {
   "codemirror_mode": {
    "name": "ipython",
    "version": 3
   },
   "file_extension": ".py",
   "mimetype": "text/x-python",
   "name": "python",
   "nbconvert_exporter": "python",
   "pygments_lexer": "ipython3",
   "version": "3.9.5"
  },
  "orig_nbformat": 4,
  "vscode": {
   "interpreter": {
    "hash": "f9f85f796d01129d0dd105a088854619f454435301f6ffec2fea96ecbd9be4ac"
   }
  }
 },
 "nbformat": 4,
 "nbformat_minor": 2
}
