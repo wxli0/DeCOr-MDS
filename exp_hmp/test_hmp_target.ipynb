{
 "cells": [
  {
   "cell_type": "code",
   "execution_count": 1,
   "metadata": {},
   "outputs": [
    {
     "data": {
      "text/plain": [
       "' \\nRun nSimplices + MDS vs MDS on subset (STOOL and VAGINA only) of HMP dataset \\n'"
      ]
     },
     "execution_count": 1,
     "metadata": {},
     "output_type": "execute_result"
    }
   ],
   "source": [
    "\"\"\" \n",
    "Run nSimplices + MDS vs MDS on subset (STOOL and VAGINA only) of HMP dataset \n",
    "\"\"\""
   ]
  },
  {
   "cell_type": "code",
   "execution_count": 2,
   "metadata": {},
   "outputs": [],
   "source": [
    "import numpy as np\n",
    "import matplotlib\n",
    "matplotlib.use('Agg')\n",
    "import matplotlib.pyplot as plt\n",
    "import os\n",
    "import pandas as pd\n",
    "import random as alea\n",
    "from scipy.spatial.distance import pdist, squareform\n",
    "from sklearn.manifold import MDS\n",
    "import plotly.express as px\n",
    "\n",
    "\n",
    "data_dir = \"../data/\"\n",
    "output_dir = \"../outputs\"\n",
    "target_sites = ['NOSE', 'VAGINA', 'THROAT']\n",
    "target_id = \"NVT\"\n",
    "target_colors = [\"darkgreen\", \"orange\", \"deeppink\"]\n",
    "\n",
    "# target_sites = ['STOOL', 'VAGINA']\n",
    "# target_id = \"SV\"\n",
    "# target_colors = [\"cornflowerblue\", \"orange\"]\n",
    "\n",
    "# if color == \"deeppink\":\n",
    "#         return \"THROAT\"\n",
    "#     if color == \"black\":\n",
    "#         return \"EARS\"\n",
    "#     if color == \"cornflowerblue\":\n",
    "#         return \"STOOL\"\n",
    "#     if color == \"darkgreen\":\n",
    "#         return \"NOSE\"\n",
    "#     if color == \"red\":\n",
    "#         return \"ELBOWS\"\n",
    "#     if color == \"gray\":\n",
    "#         return \"MOUTH\"\n",
    "#     if color == \"orange\":\n",
    "#         return \"VAGINA\"\n",
    "\n",
    "# target_sites = ['THROAT']\n",
    "# target_id = \"T\"\n",
    "# target_colors = [\"deeppink\"]\n"
   ]
  },
  {
   "cell_type": "code",
   "execution_count": 3,
   "metadata": {},
   "outputs": [],
   "source": [
    "\"\"\"\n",
    "Prepare dataset\n",
    "\"\"\"\n",
    "\n",
    "# iterate over QE and NB\n",
    "files = [\"hmp_v13lqphylotypeQuantNB_rs_c.csv\", \"hmp_v13lqphylotypeQuantE_rs_c.csv\"]\n",
    "color_df = pd.read_csv(os.path.join(data_dir, \"hmp_v13lqphylotypePheno_rs_c.csv\"), header=0)\n",
    "\n",
    "for file in files:\n",
    "    data_path = os.path.join(data_dir, file)\n",
    "    df_hmp_ori = np.loadtxt(data_path, delimiter=\",\")\n",
    "    df_hmp = []\n",
    "\n",
    "\n",
    "    for index, row in color_df.iterrows():\n",
    "        site_exist = False\n",
    "        for site in target_sites:\n",
    "            if row[site]:\n",
    "                site_exist = True\n",
    "        if site_exist:\n",
    "            df_hmp.append(df_hmp_ori[index])\n",
    "    df_hmp = np.array(df_hmp)\n",
    "    np.savetxt(os.path.join(data_dir, file[:-8]+\"target_\"+target_id+\"_\"+file[-8:]), df_hmp, fmt='%1.17f', delimiter=',')\n"
   ]
  },
  {
   "cell_type": "code",
   "execution_count": 4,
   "metadata": {},
   "outputs": [
    {
     "name": "stdout",
     "output_type": "stream",
     "text": [
      "(454,)\n"
     ]
    }
   ],
   "source": [
    "\"\"\" \n",
    "Prepare colors\n",
    "\"\"\"\n",
    "\n",
    "colors = []\n",
    "new_color_df = color_df.copy(deep = True)\n",
    "drop_indices = []\n",
    "\n",
    "for index, row in color_df.iterrows():\n",
    "    site_exist = False\n",
    "    for i in range(len(target_sites)):\n",
    "        site = target_sites[i]\n",
    "        if row[site]:\n",
    "            colors.append(target_colors[i])\n",
    "            site_exist = True\n",
    "    if not site_exist:\n",
    "        drop_indices.append(index)\n",
    "\n",
    "colors = np.array(colors)\n",
    "print(colors.shape)\n",
    "\n",
    "np.savetxt(os.path.join(data_dir, \"hmp_target_\"+target_id+\"_\"+\"colors.txt\"), colors, fmt=\"%s\")\n",
    "\n",
    "new_color_df = new_color_df.drop(drop_indices)\n",
    "new_color_df.to_csv(os.path.join(data_dir, \"hmp_v13lqphylotypePheno_target_\"+target_id+\"_\"+\"rs_c.csv\"), header=True, index=False)"
   ]
  },
  {
   "cell_type": "code",
   "execution_count": 5,
   "metadata": {},
   "outputs": [],
   "source": [
    "\"\"\" \n",
    "Run nSimplices on HMP dataset\n",
    "\"\"\"\n",
    "colors = np.loadtxt(os.path.join(data_dir, \"hmp_target_\"+target_id+\"_\"+\"colors.txt\"), dtype=\"str\")\n",
    "exec(open(\"../nsimplices.py\").read())\n",
    "alea.seed(42)\n"
   ]
  },
  {
   "cell_type": "code",
   "execution_count": 14,
   "metadata": {},
   "outputs": [
    {
     "name": "stdout",
     "output_type": "stream",
     "text": [
      "======== NB/QE normalization + nSimplices + cMDS ========\n",
      "hmp_dis_sq shape is: (454, 454)\n",
      "dim in find_subspace_dim is: 2\n",
      "dim in find_subspace_dim is: 3\n",
      "dim in find_subspace_dim is: 4\n",
      "dim in find_subspace_dim is: 5\n"
     ]
    }
   ],
   "source": [
    "\"\"\" \n",
    "Run\n",
    "(1) NB normalization + nSimplices + cMDS \n",
    "(2) QE normalization + nSimplices + cMDS \n",
    "\n",
    "To derive the axes data\n",
    "\"\"\" \n",
    "\n",
    "output_files = [\"hmp_target_\"+target_id+\"_\"+\"NB_nSimplices_cMDS_axes.txt\", \"hmp_target_\"+target_id+\"_\"+\"QE_nSimplices_cMDS_axes.txt\"]\n",
    "data_files = [\"hmp_v13lqphylotypeQuantNB_target_\"+target_id+\"_\"+\"rs_c.csv\", \"hmp_v13lqphylotypeQuantE_target_\"+target_id+\"_\"+\"rs_c.csv\"]\n",
    "subspace_dims = []\n",
    "outlier_indices_list = []\n",
    "for i in range(len(output_files)):\n",
    "    output_file = output_files[i]\n",
    "    data_file = data_files[i]\n",
    "    axes_output_path = os.path.join(output_dir, output_file)\n",
    "    print(\"======== NB/QE normalization + nSimplices + cMDS ========\")\n",
    "    data_path = os.path.join(data_dir, data_file)\n",
    "    df_hmp = np.loadtxt(data_path, delimiter=\",\")\n",
    "    hmp_dis_sq=squareform(pdist(df_hmp))\n",
    "\n",
    "    feature_num = df_hmp.shape[1]\n",
    "    dim_start = 2\n",
    "    dim_end = 50\n",
    "    # dim_start = 3\n",
    "    # dim_end = 3\n",
    "\n",
    "    print(\"hmp_dis_sq shape is:\", hmp_dis_sq.shape)\n",
    "    outlier_indices, subspace_dim , corr_pairwise_dis, corr_coord = nsimplices(hmp_dis_sq, feature_num, dim_start, dim_end, std_multi=2)\n",
    "    print(\"subspace dimension is:\", subspace_dim)\n",
    "    subspace_dims.append(subspace_dim)\n",
    "    outlier_indices_list.append(outlier_indices)\n",
    "\n",
    "    # run cMDS to get the corrected coordinates in importance decreasing order\n",
    "    _, _, Xe = cMDS(corr_pairwise_dis)\n",
    "    np.savetxt(axes_output_path, Xe, fmt='%f')\n"
   ]
  },
  {
   "cell_type": "code",
   "execution_count": 7,
   "metadata": {},
   "outputs": [
    {
     "data": {
      "text/plain": [
       "' \\nInferred dimension\\nQE: STOOL - 3, VAGINA - 3, THROAT - 3, EARS - 3, NOSE - 3, ELBOWS - 3, MOUTH - 3\\nNB: STOOL - 41, VAGINA - 5, THROAT - , EARS - 3, NOSE - 3, ELBOWS - 3, MOUTH - 3\\n\\n'"
      ]
     },
     "execution_count": 7,
     "metadata": {},
     "output_type": "execute_result"
    }
   ],
   "source": [
    "\"\"\" \n",
    "Inferred dimension\n",
    "QE: STOOL - 3, VAGINA - 3, THROAT - 3, EARS - 3, NOSE - 3, ELBOWS - 3, MOUTH - 3\n",
    "NB: STOOL - 41, VAGINA - 5, THROAT - , EARS - 3, NOSE - 3, ELBOWS - 3, MOUTH - 3\n",
    "\n",
    "\"\"\""
   ]
  },
  {
   "cell_type": "code",
   "execution_count": 8,
   "metadata": {},
   "outputs": [
    {
     "name": "stdout",
     "output_type": "stream",
     "text": [
      "number of samples is: 454\n",
      "number of outliers is: 25\n"
     ]
    }
   ],
   "source": [
    "print(\"number of samples is:\", len(colors))\n",
    "print(\"number of outliers is:\", len(outlier_indices_list[1]))"
   ]
  },
  {
   "attachments": {},
   "cell_type": "markdown",
   "metadata": {},
   "source": [
    "site - number of samples - number of outliers\n",
    "\n",
    "VAGINA: 186 - 26\n",
    "\n",
    "NOSE: 136 - 18\n",
    "\n",
    "THROAT: 134 - 14\n",
    "\n",
    "VAGINA, STOOL, THROAT: 454 - 25\n"
   ]
  },
  {
   "cell_type": "code",
   "execution_count": 9,
   "metadata": {},
   "outputs": [
    {
     "name": "stdout",
     "output_type": "stream",
     "text": [
      "======== QE/NB normalization + MDS + cMDS ========\n",
      "feature_num is: 425\n"
     ]
    },
    {
     "name": "stderr",
     "output_type": "stream",
     "text": [
      "/home/wanxinli/.local/lib/python3.9/site-packages/sklearn/manifold/_mds.py:299: FutureWarning: The default value of `normalized_stress` will change to `'auto'` in version 1.4. To suppress this warning, manually set the value of `normalized_stress`.\n",
      "  warnings.warn(\n"
     ]
    },
    {
     "name": "stdout",
     "output_type": "stream",
     "text": [
      "======== QE/NB normalization + MDS + cMDS ========\n",
      "feature_num is: 425\n"
     ]
    },
    {
     "name": "stderr",
     "output_type": "stream",
     "text": [
      "/home/wanxinli/.local/lib/python3.9/site-packages/sklearn/manifold/_mds.py:299: FutureWarning: The default value of `normalized_stress` will change to `'auto'` in version 1.4. To suppress this warning, manually set the value of `normalized_stress`.\n",
      "  warnings.warn(\n"
     ]
    }
   ],
   "source": [
    "\"\"\" \n",
    "Run\n",
    "(1) NB normalization + cMDS \n",
    "(2) QE normalization + cMDS \n",
    "\n",
    "To derive the axes data\n",
    "\"\"\"  \n",
    "\n",
    "axes_files = [\"hmp_target_\"+target_id+\"_\"+\"NB_MDS_cMDS_axes.txt\", \"hmp_target_\"+target_id+\"_\"+\"QE_MDS_cMDS_axes.txt\"] # put NB before QE\n",
    "data_files = [\"hmp_v13lqphylotypeQuantNB_target_\"+target_id+\"_\"+\"rs_c.csv\", \"hmp_v13lqphylotypeQuantE_target_\"+target_id+\"_\"+\"rs_c.csv\"]\n",
    "\n",
    "for i in range(len(axes_files)):\n",
    "    axes_file = axes_files[i]\n",
    "    data_file = data_files[i]\n",
    "\n",
    "    print(\"======== QE/NB normalization + MDS + cMDS ========\")\n",
    "    data_path = os.path.join(data_dir, data_file)\n",
    "    axes_output_path = os.path.join(output_dir, axes_file)\n",
    "\n",
    "    df_hmp = np.loadtxt(data_path, delimiter=\",\")\n",
    "    hmp_dis_sq=squareform(pdist(df_hmp))\n",
    "\n",
    "    # Plot cMDS embedding using the pairs of axis from the four most significant axes \n",
    "    # enforce_dim = subspace_dims[i] # enforcing the dimension to be consistent with nSimplices QE+nsimplices+cMDS\n",
    "    feature_num = df_hmp.shape[1]\n",
    "    print(\"feature_num is:\", feature_num)\n",
    "    embedding = MDS(n_components=feature_num, max_iter=100000000000, dissimilarity='precomputed') \n",
    "    corr_coord = embedding.fit_transform(hmp_dis_sq)\n",
    "    corr_dis_sq=squareform(pdist(corr_coord))\n",
    "    _, _, Xe = cMDS(corr_dis_sq)\n",
    "\n",
    "    np.savetxt(axes_output_path, Xe, fmt='%f')"
   ]
  },
  {
   "cell_type": "code",
   "execution_count": 10,
   "metadata": {},
   "outputs": [
    {
     "name": "stdout",
     "output_type": "stream",
     "text": [
      "======== plot pairwise 2D plot (subset) ========\n",
      "(454, 428)\n",
      "======== plot pairwise 2D plot (subset) ========\n",
      "(454, 440)\n",
      "======== plot pairwise 2D plot (subset) ========\n",
      "(454, 440)\n",
      "======== plot pairwise 2D plot (subset) ========\n",
      "(454, 439)\n"
     ]
    }
   ],
   "source": [
    "\"\"\" \n",
    "Plot pairwise result\n",
    "\"\"\"\n",
    "\n",
    "figure_files = [\"hmp_target_\"+target_id+\"_\"+\"NB_nSimplices_cMDS.png\", \\\n",
    "    \"hmp_target_\"+target_id+\"_\"+\"QE_nSimplices_cMDS.png\", \\\n",
    "    \"hmp_target_\"+target_id+\"_\"+\"NB_MDS_cMDS.png\", \\\n",
    "    \"hmp_target_\"+target_id+\"_\"+\"QE_MDS_cMDS.png\"]\n",
    "axes_files = [\"hmp_target_\"+target_id+\"_\"+\"NB_nSimplices_cMDS_axes.txt\", \\\n",
    "    \"hmp_target_\"+target_id+\"_\"+\"QE_nSimplices_cMDS_axes.txt\", \\\n",
    "    \"hmp_target_\"+target_id+\"_\"+\"NB_MDS_cMDS_axes.txt\", \\\n",
    "    \"hmp_target_\"+target_id+\"_\"+\"QE_MDS_cMDS_axes.txt\"]\n",
    "titles = [\"NB+nSimplices\", \"QuantE+nSimplices\", \"NB+MDS\", \"QuantE+MDS\"]\n",
    "num_axes = 3 # show pairwise 2D plot to decompose the 3D plot\n",
    "\n",
    "for i in range(len(figure_files)):\n",
    "    figure_file = figure_files[i]\n",
    "    axes_file = axes_files[i]\n",
    "    title = titles[i]\n",
    "    outlier_indices = None\n",
    "    if 'nSimplices' in figure_file:\n",
    "        outlier_indices = outlier_indices_list[i]\n",
    "\n",
    "    print(\"======== plot pairwise 2D plot (subset) ========\")\n",
    "    Xe = np.loadtxt(os.path.join(output_dir, axes_file))\n",
    "    print(Xe.shape)\n",
    "    for first_dim in range(num_axes):\n",
    "        for second_dim in range(first_dim+1, num_axes):\n",
    "            plt.figure()\n",
    "            \n",
    "            target_indices = []\n",
    "            for color in target_colors:\n",
    "                cur_indices = [i for i, e in enumerate(colors) if e == color]\n",
    "                target_indices.append(cur_indices)\n",
    "            # stool_indices = [i for i, e in enumerate(colors) if e == 'cornflowerblue']\n",
    "            # ears_indices = [i for i, e in enumerate(colors) if e == 'orange']\n",
    "\n",
    "            for i in range(len(target_colors)):\n",
    "                color = target_colors[i]\n",
    "                site = target_sites[i]\n",
    "                site_indices = target_indices[i]\n",
    "                \n",
    "                if 'nSimplices' not in figure_file:\n",
    "                    plt.scatter(Xe[site_indices, second_dim], \\\n",
    "                    Xe[site_indices, first_dim], s=5, c=color, label = site)\n",
    "                else:\n",
    "                    site_outlier_indices = list(set(site_indices) & set(outlier_indices))\n",
    "                    site_normal_indices = list(set(site_indices) - set(outlier_indices))\n",
    "                \n",
    "                    plt.scatter(Xe[site_normal_indices, second_dim], \\\n",
    "                        Xe[site_normal_indices, first_dim], s=5, c=color, label = site)\n",
    "                    plt.scatter(Xe[site_outlier_indices, second_dim], \\\n",
    "                        Xe[site_outlier_indices, first_dim], s=5, c=color, label = site+\" outlier\", marker=\"x\")\n",
    "                    \n",
    "            plt.legend()\n",
    "            plt.title(title, size=10)   \n",
    "            plt.savefig(os.path.join(output_dir, figure_file[:-4]+\"_\"+str(first_dim)+\"_\"+str(second_dim)+\".png\"))\n",
    "            "
   ]
  },
  {
   "cell_type": "code",
   "execution_count": 11,
   "metadata": {},
   "outputs": [],
   "source": [
    "def color_to_site(color):\n",
    "    \"\"\"\n",
    "    Returns the site for the color\n",
    "    \"\"\"\n",
    "    if color == \"deeppink\":\n",
    "        return \"THROAT\"\n",
    "    if color == \"black\":\n",
    "        return \"EARS\"\n",
    "    if color == \"cornflowerblue\":\n",
    "        return \"STOOL\"\n",
    "    if color == \"darkgreen\":\n",
    "        return \"NOSE\"\n",
    "    if color == \"red\":\n",
    "        return \"ELBOWS\"\n",
    "    if color == \"gray\":\n",
    "        return \"MOUTH\"\n",
    "    if color == \"orange\":\n",
    "        return \"VAGINA\"\n",
    "\n",
    "def site_to_color(site):\n",
    "    \"\"\"\n",
    "    Returns the color for the site\n",
    "    \"\"\"\n",
    "    color_discrete_map = {'STOOL': 'cornflowerblue', 'VAGINA': 'orange', 'THROAT': 'deeppink',\\\n",
    "        \"EARS\": 'black', \"NOSE\": \"darkgreen\", \"ELBOWS\": 'red', \"MOUTH\": 'grey' }\n",
    "\n",
    "    return color_discrete_map[site]"
   ]
  },
  {
   "cell_type": "code",
   "execution_count": 12,
   "metadata": {},
   "outputs": [
    {
     "name": "stdout",
     "output_type": "stream",
     "text": [
      "{'1': 'cross', '0': 'circle'}\n",
      "{'1': 'cross', '0': 'circle'}\n",
      "{'1': 'cross', '0': 'circle'}\n",
      "{'1': 'cross', '0': 'circle'}\n",
      "{'1': 'cross', '0': 'circle'}\n",
      "{'1': 'cross', '0': 'circle'}\n",
      "{'1': 'cross', '0': 'circle'}\n",
      "{'1': 'cross', '0': 'circle'}\n",
      "{'1': 'cross', '0': 'circle'}\n",
      "{'1': 'cross', '0': 'circle'}\n",
      "{'1': 'cross', '0': 'circle'}\n",
      "{'1': 'cross', '0': 'circle'}\n",
      "{'1': 'cross', '0': 'circle'}\n",
      "{'1': 'cross', '0': 'circle'}\n",
      "{'1': 'cross', '0': 'circle'}\n",
      "{'1': 'cross', '0': 'circle'}\n",
      "{'1': 'cross', '0': 'circle'}\n",
      "{'1': 'cross', '0': 'circle'}\n",
      "{'1': 'cross', '0': 'circle'}\n",
      "{'1': 'cross', '0': 'circle'}\n",
      "{'1': 'cross', '0': 'circle'}\n",
      "{'1': 'cross', '0': 'circle'}\n",
      "{'1': 'cross', '0': 'circle'}\n",
      "{'1': 'cross', '0': 'circle'}\n"
     ]
    }
   ],
   "source": [
    "\"\"\" \n",
    "generate 3D plot of the first three axes \n",
    "\"\"\"\n",
    "\n",
    "axes_files = [\"hmp_target_\"+target_id+\"_\"+\"NB_nSimplices_cMDS_axes.txt\", \\\n",
    "    \"hmp_target_\"+target_id+\"_\"+\"QE_nSimplices_cMDS_axes.txt\", \\\n",
    "    \"hmp_target_\"+target_id+\"_\"+\"NB_MDS_cMDS_axes.txt\", \\\n",
    "    \"hmp_target_\"+target_id+\"_\"+\"QE_MDS_cMDS_axes.txt\"]\n",
    "    \n",
    "\n",
    "figure_files = [\"hmp_target_\"+target_id+\"_\"+\"NB_nSimplices_cMDS.html\", \\\n",
    "    \"hmp_target_\"+target_id+\"_\"+\"QE_nSimplices_cMDS.html\",\\\n",
    "    \"hmp_target_\"+target_id+\"_\"+\"NB_MDS_cMDS.html\", \\\n",
    "    \"hmp_target_\"+target_id+\"_\"+\"QE_MDS_cMDS.html\"]\n",
    "\n",
    "\n",
    "for i in range(len(axes_files)):\n",
    "    axes_file = axes_files[i]\n",
    "    figure_file = figure_files[i]\n",
    "    outlier_indices = outlier_indices_list[i%2]\n",
    "    normal_indices = list(set(list(range(Xe.shape[0]))) - set(outlier_indices))\n",
    "    Xe = np.loadtxt(os.path.join(output_dir, axes_file))\n",
    "    color_discrete_map = {'STOOL': 'cornflowerblue', 'VAGINA': 'orange', 'THROAT': 'deeppink',\\\n",
    "        \"EARS\": 'black', \"NOSE\": \"darkgreen\", \"ELBOWS\": 'red', \"MOUTH\": 'grey' }\n",
    "\n",
    "\n",
    "    Xe_df = pd.DataFrame(Xe[:,:3], columns = [\"axis_0\", \"axis_1\", \"axis_2\"])\n",
    "    Xe_df['color'] = colors\n",
    "    Xe_df['label'] = \\\n",
    "        Xe_df.apply(lambda row: color_to_site(row['color']), axis=1)\n",
    "    outlier_indicator = np.array([0]*len(colors))\n",
    "    outlier_indicator[outlier_indices] = 1\n",
    "    Xe_df['outlier'] = outlier_indicator.tolist()\n",
    "\n",
    "        # specify trace names and symbols in a dict\n",
    "    symbols = {'1': 'cross',\n",
    "            '0':'circle'}\n",
    "\n",
    "    \n",
    "\n",
    "    fig = px.scatter_3d(Xe_df, x='axis_0', y='axis_1', z='axis_2',\n",
    "            color='label', color_discrete_map=color_discrete_map, symbol='outlier')\n",
    "\n",
    "    for i, d in enumerate(fig.data):\n",
    "        # fig.data[i].marker.symbol = symbols[fig.data[i].name] \n",
    "        print(symbols)\n",
    "        fig.data[i].marker.symbol = symbols[fig.data[i].name.split(',')[1].strip()] \n",
    "\n",
    "    fig.update_layout(scene = dict(\n",
    "                    xaxis_title='axis 0',\n",
    "                    yaxis_title='axis 1',\n",
    "                    zaxis_title='axis 2'))\n",
    "    fig.write_html(os.path.join(output_dir, figure_file))\n",
    "\n",
    "\n"
   ]
  },
  {
   "cell_type": "code",
   "execution_count": 13,
   "metadata": {},
   "outputs": [],
   "source": [
    "# \"\"\"\n",
    "# Combine three 3D dynamic plots together\n",
    "# https://stackoverflow.com/questions/59868987/plotly-saving-multiple-plots-into-a-single-html/59869358#59869358\n",
    "# \"\"\"\n",
    "# import plotly.graph_objects as go\n",
    "# import plotly.express as px\n",
    "# import plotly.offline as offline\n",
    "# import pandas as pd\n",
    "\n",
    "# from plotly.subplots import make_subplots\n",
    "\n",
    "\n",
    "# \"\"\" \n",
    "# generate 3D plot of the first three axes \n",
    "# \"\"\"\n",
    "\n",
    "# target_id = 'M'\n",
    "\n",
    "# axes_files = [\"hmp_target_\"+target_id+\"_\"+\"NB_nSimplices_cMDS_axes.txt\", \\\n",
    "#     \"hmp_target_\"+target_id+\"_\"+\"NB_MDS_cMDS_axes.txt\"]\n",
    "    \n",
    "\n",
    "# figure_files = [\"hmp_target_\"+target_id+\"_\"+\"NB_nSimplices_cMDS.html\", \\\n",
    "#     \"hmp_target_\"+target_id+\"_\"+\"NB_MDS_cMDS.html\"]\n",
    "\n",
    "# fig = make_subplots(\\\n",
    "#     rows=2, cols=1, shared_xaxes=True, \\\n",
    "#     vertical_spacing=0.02)\n",
    "\n",
    "\n",
    "\n",
    "# for i in range(len(axes_files)):\n",
    "#     axes_file = axes_files[i]\n",
    "#     figure_file = figure_files[i]\n",
    "#     outlier_indices = outlier_indices_list[i%2]\n",
    "#     normal_indices = list(set(list(range(Xe.shape[0]))) - set(outlier_indices))\n",
    "#     Xe = np.loadtxt(os.path.join(output_dir, axes_file))\n",
    "#     color_discrete_map = {'STOOL': 'cornflowerblue', 'VAGINA': 'orange', 'THROAT': 'deeppink',\\\n",
    "#         \"EARS\": 'black', \"NOSE\": \"darkgreen\", \"ELBOWS\": 'red', \"MOUTH\": 'grey' }\n",
    "\n",
    "\n",
    "#     Xe_df = pd.DataFrame(Xe[:,:3], columns = [\"axis_0\", \"axis_1\", \"axis_2\"])\n",
    "#     Xe_df['color'] = colors\n",
    "#     Xe_df['label'] = \\\n",
    "#         Xe_df.apply(lambda row: color_to_site(row['color']), axis=1)\n",
    "#     outlier_indicator = np.array(['nor']*len(colors))\n",
    "#     outlier_indicator[outlier_indices] = \"out\"\n",
    "#     Xe_df['outlier'] = outlier_indicator.tolist()\n",
    "\n",
    "#         # specify trace names and symbols in a dict\n",
    "#     symbols = {'out': 'cross',\n",
    "#             'nor':'circle'}\n",
    "\n",
    "    \n",
    "\n",
    "#     # fig = px.scatter_3d(Xe_df, x='axis_0', y='axis_1', z='axis_2',\n",
    "#     #         color='label', color_discrete_map=color_discrete_map, symbol='outlier')\n",
    "\n",
    "\n",
    "#     fig.add_trace(go.Scatter3d(x = Xe_df[\"axis_0\"], y = Xe_df[\"axis_1\"], z = Xe_df[\"axis_2\"], \\\n",
    "#         marker=dict(\n",
    "#             color = colors\n",
    "#         )), \\\n",
    "#         row=1, col=1)\n",
    "\n",
    "#     # for i, d in enumerate(fig.data):\n",
    "#     #     # fig.data[i].marker.symbol = symbols[fig.data[i].name] \n",
    "#     #     print(symbols)\n",
    "#     #     fig.data[i].marker.symbol = symbols[fig.data[i].name.split(',')[1].strip()] \n",
    "\n",
    "#     # fig.update_layout(scene = dict(\n",
    "#     #                 xaxis_title='axis 0',\n",
    "#     #                 yaxis_title='axis 1',\n",
    "#     #                 zaxis_title='axis 2'))\n",
    "#     fig.write_html(os.path.join(output_dir, figure_file))\n",
    "\n",
    "# offline.plot(fig, filename='name.html')\n",
    "\n",
    "\n",
    "\n"
   ]
  },
  {
   "cell_type": "code",
   "execution_count": null,
   "metadata": {},
   "outputs": [],
   "source": []
  }
 ],
 "metadata": {
  "kernelspec": {
   "display_name": "Python 3",
   "language": "python",
   "name": "python3"
  },
  "language_info": {
   "codemirror_mode": {
    "name": "ipython",
    "version": 3
   },
   "file_extension": ".py",
   "mimetype": "text/x-python",
   "name": "python",
   "nbconvert_exporter": "python",
   "pygments_lexer": "ipython3",
   "version": "3.9.5"
  },
  "orig_nbformat": 4,
  "vscode": {
   "interpreter": {
    "hash": "f9f85f796d01129d0dd105a088854619f454435301f6ffec2fea96ecbd9be4ac"
   }
  }
 },
 "nbformat": 4,
 "nbformat_minor": 2
}
