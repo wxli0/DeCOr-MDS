{
 "cells": [
  {
   "cell_type": "code",
   "execution_count": 1,
   "metadata": {},
   "outputs": [
    {
     "data": {
      "text/plain": [
       "' \\nRun nSimplices + MDS vs MDS on subset (STOOL and VAGINA only) of HMP dataset \\n'"
      ]
     },
     "execution_count": 1,
     "metadata": {},
     "output_type": "execute_result"
    }
   ],
   "source": [
    "\"\"\" \n",
    "Run nSimplices + MDS vs MDS on subset (STOOL and VAGINA only) of HMP dataset \n",
    "\"\"\""
   ]
  },
  {
   "cell_type": "code",
   "execution_count": 2,
   "metadata": {},
   "outputs": [],
   "source": [
    "import numpy as np\n",
    "import matplotlib\n",
    "matplotlib.use('Agg')\n",
    "import matplotlib.pyplot as plt\n",
    "import os\n",
    "import pandas as pd\n",
    "import random as alea\n",
    "from scipy.spatial.distance import pdist, squareform\n",
    "from sklearn.manifold import MDS\n",
    "\n",
    "\n",
    "data_dir = \"../data/\"\n",
    "output_dir = \"../outputs\"\n",
    "target_sites = ['STOOL', 'VAGINA']\n",
    "target_colors = [\"cornflowerblue\", \"orange\"]"
   ]
  },
  {
   "cell_type": "code",
   "execution_count": 3,
   "metadata": {},
   "outputs": [],
   "source": [
    "\"\"\"\n",
    "Prepare dataset\n",
    "\"\"\"\n",
    "\n",
    "# iterate over QE and NB\n",
    "files = [\"hmp_v13lqphylotypeQuantNB_rs_c.csv\", \"hmp_v13lqphylotypeQuantE_rs_c.csv\"]\n",
    "color_df = pd.read_csv(os.path.join(data_dir, \"hmp_v13lqphylotypePheno_rs_c.csv\"), header=0)\n",
    "\n",
    "for file in files:\n",
    "    data_path = os.path.join(data_dir, file)\n",
    "    df_hmp_ori = np.loadtxt(data_path, delimiter=\",\")\n",
    "    df_hmp = []\n",
    "\n",
    "\n",
    "    for index, row in color_df.iterrows():\n",
    "        site_exist = False\n",
    "        for site in target_sites:\n",
    "            if row[site]:\n",
    "                site_exist = True\n",
    "        if site_exist:\n",
    "            df_hmp.append(df_hmp_ori[index])\n",
    "    df_hmp = np.array(df_hmp)\n",
    "    np.savetxt(os.path.join(data_dir, file[:-8]+\"target_\"+file[-8:]), df_hmp, fmt='%1.17f', delimiter=',')\n"
   ]
  },
  {
   "cell_type": "code",
   "execution_count": 4,
   "metadata": {},
   "outputs": [
    {
     "name": "stdout",
     "output_type": "stream",
     "text": [
      "(330,)\n"
     ]
    }
   ],
   "source": [
    "\"\"\" \n",
    "Prepare colors\n",
    "\"\"\"\n",
    "\n",
    "colors = []\n",
    "new_color_df = color_df.copy(deep = True)\n",
    "drop_indices = []\n",
    "\n",
    "for index, row in color_df.iterrows():\n",
    "    site_exist = False\n",
    "    for i in range(len(target_sites)):\n",
    "        site = target_sites[i]\n",
    "        if row[site]:\n",
    "            colors.append(target_colors[i])\n",
    "            site_exist = True\n",
    "    if not site_exist:\n",
    "        drop_indices.append(index)\n",
    "\n",
    "colors = np.array(colors)\n",
    "print(colors.shape)\n",
    "\n",
    "np.savetxt(os.path.join(data_dir, \"hmp_target_colors.txt\"), colors, fmt=\"%s\")\n",
    "\n",
    "new_color_df = new_color_df.drop(drop_indices)\n",
    "new_color_df.to_csv(os.path.join(data_dir, \"hmp_v13lqphylotypePheno_target_rs_c.csv\"), header=True, index=False)"
   ]
  },
  {
   "cell_type": "code",
   "execution_count": 5,
   "metadata": {},
   "outputs": [],
   "source": [
    "\"\"\" \n",
    "Run nSimplices on HMP dataset\n",
    "\"\"\"\n",
    "colors = np.loadtxt(os.path.join(data_dir, \"hmp_target_colors.txt\"), dtype=\"str\")\n",
    "exec(open(\"../nsimplices.py\").read())\n",
    "alea.seed(42)\n"
   ]
  },
  {
   "cell_type": "code",
   "execution_count": 6,
   "metadata": {},
   "outputs": [
    {
     "name": "stdout",
     "output_type": "stream",
     "text": [
      "======== NB/QE normalization + nSimplices + cMDS ========\n",
      "hmp_dis_sq shape is: (330, 330)\n",
      "dim in find_subspace_dim is: 2\n",
      "dim in find_subspace_dim is: 3\n"
     ]
    },
    {
     "ename": "KeyboardInterrupt",
     "evalue": "",
     "output_type": "error",
     "traceback": [
      "\u001b[0;31m---------------------------------------------------------------------------\u001b[0m",
      "\u001b[0;31mKeyboardInterrupt\u001b[0m                         Traceback (most recent call last)",
      "Cell \u001b[0;32mIn[6], line 26\u001b[0m\n\u001b[1;32m     23\u001b[0m dim_end \u001b[39m=\u001b[39m \u001b[39m50\u001b[39m\n\u001b[1;32m     25\u001b[0m \u001b[39mprint\u001b[39m(\u001b[39m\"\u001b[39m\u001b[39mhmp_dis_sq shape is:\u001b[39m\u001b[39m\"\u001b[39m, hmp_dis_sq\u001b[39m.\u001b[39mshape)\n\u001b[0;32m---> 26\u001b[0m outlier_indices, subspace_dim , corr_pairwise_dis, corr_coord \u001b[39m=\u001b[39m nsimplices(hmp_dis_sq, feature_num, dim_start, dim_end)\n\u001b[1;32m     27\u001b[0m \u001b[39mprint\u001b[39m(\u001b[39m\"\u001b[39m\u001b[39msubspace dimension is:\u001b[39m\u001b[39m\"\u001b[39m, subspace_dim)\n\u001b[1;32m     28\u001b[0m subspace_dims\u001b[39m.\u001b[39mappend(subspace_dim)\n",
      "File \u001b[0;32m<string>:348\u001b[0m, in \u001b[0;36mnsimplices\u001b[0;34m(pairwise_dis, feature_num, dim_start, dim_end, euc_coord, correct)\u001b[0m\n",
      "File \u001b[0;32m<string>:278\u001b[0m, in \u001b[0;36mfind_subspace_dim\u001b[0;34m(pairwise_dis, dim_start, dim_end)\u001b[0m\n",
      "File \u001b[0;32m<string>:130\u001b[0m, in \u001b[0;36mnsimplices_all_heights\u001b[0;34m(num_total_point, dis_sq, num_simplex_point, seed)\u001b[0m\n",
      "File \u001b[0;32m<string>:86\u001b[0m, in \u001b[0;36mnsimplices_heights\u001b[0;34m(dis_sq, num_total_point, num_group, point_index, num_simplex_point)\u001b[0m\n",
      "File \u001b[0;32m<string>:49\u001b[0m, in \u001b[0;36msimplex_volume\u001b[0;34m(indices, dis_sq, use_deno)\u001b[0m\n",
      "File \u001b[0;32m<__array_function__ internals>:5\u001b[0m, in \u001b[0;36mdet\u001b[0;34m(*args, **kwargs)\u001b[0m\n",
      "File \u001b[0;32m~/.local/lib/python3.9/site-packages/numpy/linalg/linalg.py:2158\u001b[0m, in \u001b[0;36mdet\u001b[0;34m(a)\u001b[0m\n\u001b[1;32m   2156\u001b[0m t, result_t \u001b[39m=\u001b[39m _commonType(a)\n\u001b[1;32m   2157\u001b[0m signature \u001b[39m=\u001b[39m \u001b[39m'\u001b[39m\u001b[39mD->D\u001b[39m\u001b[39m'\u001b[39m \u001b[39mif\u001b[39;00m isComplexType(t) \u001b[39melse\u001b[39;00m \u001b[39m'\u001b[39m\u001b[39md->d\u001b[39m\u001b[39m'\u001b[39m\n\u001b[0;32m-> 2158\u001b[0m r \u001b[39m=\u001b[39m _umath_linalg\u001b[39m.\u001b[39;49mdet(a, signature\u001b[39m=\u001b[39;49msignature)\n\u001b[1;32m   2159\u001b[0m r \u001b[39m=\u001b[39m r\u001b[39m.\u001b[39mastype(result_t, copy\u001b[39m=\u001b[39m\u001b[39mFalse\u001b[39;00m)\n\u001b[1;32m   2160\u001b[0m \u001b[39mreturn\u001b[39;00m r\n",
      "\u001b[0;31mKeyboardInterrupt\u001b[0m: "
     ]
    }
   ],
   "source": [
    "\"\"\" \n",
    "Run\n",
    "(1) NB normalization + nSimplices + cMDS \n",
    "(2) QE normalization + nSimplices + cMDS \n",
    "\n",
    "To derive the axes data\n",
    "\"\"\" \n",
    "\n",
    "output_files = [\"hmp_target_NB_nSimplices_cMDS_axes.txt\", \"hmp_target_QE_nSimplices_cMDS_axes.txt\"]\n",
    "data_files = [\"hmp_v13lqphylotypeQuantNB_target_rs_c.csv\", \"hmp_v13lqphylotypeQuantE_target_rs_c.csv\"]\n",
    "subspace_dims = []\n",
    "for i in range(len(output_files)):\n",
    "    output_file = output_files[i]\n",
    "    data_file = data_files[i]\n",
    "    axes_output_path = os.path.join(output_dir, output_file)\n",
    "    print(\"======== NB/QE normalization + nSimplices + cMDS ========\")\n",
    "    data_path = os.path.join(data_dir, data_file)\n",
    "    df_hmp = np.loadtxt(data_path, delimiter=\",\")\n",
    "    hmp_dis_sq=squareform(pdist(df_hmp))\n",
    "\n",
    "    feature_num = 11\n",
    "    dim_start = 2\n",
    "    dim_end = 50\n",
    "\n",
    "    print(\"hmp_dis_sq shape is:\", hmp_dis_sq.shape)\n",
    "    outlier_indices, subspace_dim , corr_pairwise_dis, corr_coord = nsimplices(hmp_dis_sq, feature_num, dim_start, dim_end)\n",
    "    print(\"subspace dimension is:\", subspace_dim)\n",
    "    subspace_dims.append(subspace_dim)\n",
    "\n",
    "    # run cMDS to get the corrected coordinates in importance decreasing order\n",
    "    _, _, Xe = cMDS(corr_pairwise_dis)\n",
    "    np.savetxt(axes_output_path, Xe, fmt='%f')"
   ]
  },
  {
   "cell_type": "code",
   "execution_count": 6,
   "metadata": {},
   "outputs": [
    {
     "name": "stdout",
     "output_type": "stream",
     "text": [
      "======== QE/NB normalization + MDS + cMDS ========\n"
     ]
    },
    {
     "name": "stderr",
     "output_type": "stream",
     "text": [
      "/home/wanxinli/.local/lib/python3.9/site-packages/sklearn/manifold/_mds.py:299: FutureWarning: The default value of `normalized_stress` will change to `'auto'` in version 1.4. To suppress this warning, manually set the value of `normalized_stress`.\n",
      "  warnings.warn(\n"
     ]
    },
    {
     "name": "stdout",
     "output_type": "stream",
     "text": [
      "======== QE/NB normalization + MDS + cMDS ========\n"
     ]
    },
    {
     "name": "stderr",
     "output_type": "stream",
     "text": [
      "/home/wanxinli/.local/lib/python3.9/site-packages/sklearn/manifold/_mds.py:299: FutureWarning: The default value of `normalized_stress` will change to `'auto'` in version 1.4. To suppress this warning, manually set the value of `normalized_stress`.\n",
      "  warnings.warn(\n"
     ]
    }
   ],
   "source": [
    "\"\"\" \n",
    "Run\n",
    "(1) NB normalization + cMDS \n",
    "(2) QE normalization + cMDS \n",
    "\n",
    "To derive the axes data\n",
    "\"\"\"  \n",
    "\n",
    "axes_files = [\"hmp_target_NB_MDS_cMDS_axes.txt\", \"hmp_target_QE_MDS_cMDS_axes.txt\"] # put NB before QE\n",
    "data_files = [\"hmp_v13lqphylotypeQuantNB_target_rs_c.csv\", \"hmp_v13lqphylotypeQuantE_target_rs_c.csv\"]\n",
    "\n",
    "for i in range(len(axes_files)):\n",
    "    axes_file = axes_files[i]\n",
    "    data_file = data_files[i]\n",
    "\n",
    "    print(\"======== QE/NB normalization + MDS + cMDS ========\")\n",
    "    data_path = os.path.join(data_dir, data_file)\n",
    "    axes_output_path = os.path.join(output_dir, axes_file)\n",
    "\n",
    "    df_hmp = np.loadtxt(data_path, delimiter=\",\")\n",
    "    hmp_dis_sq=squareform(pdist(df_hmp))\n",
    "\n",
    "    # Plot cMDS embedding using the pairs of axis from the four most significant axes \n",
    "    # enforce_dim = subspace_dims[i] # enforcing the dimension to be consistent with nSimplices QE+nsimplices+cMDS\n",
    "    enforce_dim = 3\n",
    "    embedding = MDS(n_components=enforce_dim, max_iter=100000000000,dissimilarity='precomputed') \n",
    "    corr_coord = embedding.fit_transform(hmp_dis_sq)\n",
    "    corr_dis_sq=squareform(pdist(corr_coord))\n",
    "    _, _, Xe = cMDS(corr_dis_sq)\n",
    "\n",
    "    np.savetxt(axes_output_path, Xe, fmt='%f')"
   ]
  },
  {
   "cell_type": "code",
   "execution_count": 7,
   "metadata": {},
   "outputs": [
    {
     "name": "stdout",
     "output_type": "stream",
     "text": [
      "======== plot pairwise 2D plot (subset) ========\n",
      "(330, 162)\n",
      "======== plot pairwise 2D plot (subset) ========\n",
      "(330, 161)\n",
      "======== plot pairwise 2D plot (subset) ========\n",
      "(330, 158)\n",
      "======== plot pairwise 2D plot (subset) ========\n",
      "(330, 159)\n"
     ]
    }
   ],
   "source": [
    "\"\"\" \n",
    "Plot pairwise result\n",
    "\"\"\"\n",
    "\n",
    "figure_files = [\"hmp_target_NB_nSimplices_cMDS.png\", \"hmp_target_QE_nSimplices_cMDS.png\", \"hmp_target_NB_MDS_cMDS.png\", \"hmp_target_QE_MDS_cMDS.png\"]\n",
    "axes_files = [\"hmp_target_NB_nSimplices_cMDS_axes.txt\", \"hmp_target_QE_nSimplices_cMDS_axes.txt\", \"hmp_target_NB_MDS_cMDS_axes.txt\", \"hmp_target_QE_MDS_cMDS_axes.txt\"]\n",
    "titles = [\"NB+nSimplices\", \"QuantE+nSimplices\", \"NB+MDS\", \"QuantE+MDS\"]\n",
    "num_axes = 3 # show pairwise 2D plot to decompose the 3D plot\n",
    "\n",
    "for i in range(len(figure_files)):\n",
    "    figure_file = figure_files[i]\n",
    "    axes_file = axes_files[i]\n",
    "    title = titles[i]\n",
    "\n",
    "    print(\"======== plot pairwise 2D plot (subset) ========\")\n",
    "    Xe = np.loadtxt(os.path.join(output_dir, axes_file))\n",
    "    print(Xe.shape)\n",
    "    for first_dim in range(num_axes):\n",
    "        for second_dim in range(first_dim+1, num_axes):\n",
    "            plt.figure()\n",
    "            # only plot stool (blue), ears (black), throat (pink) points \n",
    "\n",
    "            stool_indices = [i for i, e in enumerate(colors) if e == 'cornflowerblue']\n",
    "            ears_indices = [i for i, e in enumerate(colors) if e == 'orange']\n",
    "\n",
    "            plt.scatter(Xe[stool_indices, second_dim], \\\n",
    "                Xe[stool_indices, first_dim], s=5, c='cornflowerblue', label = \"STOOL\")\n",
    "            plt.scatter(Xe[ears_indices, second_dim], \\\n",
    "                Xe[ears_indices, first_dim], s=5, c='orange', label = \"VAGINA\")\n",
    "\n",
    "\n",
    "            # for i in range(Xe.shape[0]):\n",
    "            #     plt.scatter(Xe[i, second_dim], Xe[i, first_dim], s=5, c=colors[i])\n",
    "            plt.legend()\n",
    "            plt.title(title, size=10)   \n",
    "            plt.savefig(os.path.join(output_dir, figure_file[:-4]+\"_\"+str(first_dim)+\"_\"+str(second_dim)+\".png\"))\n",
    "            "
   ]
  },
  {
   "cell_type": "code",
   "execution_count": 8,
   "metadata": {},
   "outputs": [
    {
     "name": "stdout",
     "output_type": "stream",
     "text": [
      "======== NB/QE normalization + nSimplices + cMDS ========\n",
      "hmp_dis_sq shape is: (330, 330)\n",
      "dim in find_subspace_dim is: 3\n",
      "med_height is: [1.94852377]\n",
      "subspace_dim one is: 3\n",
      "thres is: 2.6427036800006505 mean is: 2.013832238296311 std is: 0.20962381390144658\n",
      "outlier indices are: [  0  12  44  67  75 148 152 199 211 267 275 279 287 288 304 318]\n",
      "idx is: 0 height is: 2.9521082525833435 thres is: 2.6427036800006505\n",
      "idx is: 12 height is: 2.642923163201909 thres is: 2.6427036800006505\n",
      "idx is: 44 height is: 3.0600840203508657 thres is: 2.6427036800006505\n",
      "idx is: 67 height is: 2.660054020345399 thres is: 2.6427036800006505\n",
      "idx is: 75 height is: 2.682157043165481 thres is: 2.6427036800006505\n",
      "idx is: 148 height is: 2.6598561201879085 thres is: 2.6427036800006505\n",
      "idx is: 152 height is: 2.893887371159374 thres is: 2.6427036800006505\n",
      "idx is: 199 height is: 3.1025948925354707 thres is: 2.6427036800006505\n",
      "idx is: 211 height is: 2.7747729886677353 thres is: 2.6427036800006505\n",
      "idx is: 267 height is: 2.8762337647795304 thres is: 2.6427036800006505\n",
      "idx is: 275 height is: 2.8248820004078814 thres is: 2.6427036800006505\n",
      "idx is: 279 height is: 2.775270202296592 thres is: 2.6427036800006505\n",
      "idx is: 287 height is: 2.6817054973229792 thres is: 2.6427036800006505\n",
      "idx is: 288 height is: 2.645760245926092 thres is: 2.6427036800006505\n",
      "idx is: 304 height is: 2.654827885654229 thres is: 2.6427036800006505\n",
      "idx is: 318 height is: 2.6468762994384027 thres is: 2.6427036800006505\n"
     ]
    },
    {
     "name": "stderr",
     "output_type": "stream",
     "text": [
      "/home/wanxinli/.local/lib/python3.9/site-packages/sklearn/manifold/_mds.py:299: FutureWarning: The default value of `normalized_stress` will change to `'auto'` in version 1.4. To suppress this warning, manually set the value of `normalized_stress`.\n",
      "  warnings.warn(\n"
     ]
    },
    {
     "name": "stdout",
     "output_type": "stream",
     "text": [
      "outliet_indices is: []\n",
      "subspace dimension is: (330, 330)\n",
      "======== NB/QE normalization + nSimplices + cMDS ========\n",
      "hmp_dis_sq shape is: (330, 330)\n",
      "dim in find_subspace_dim is: 3\n",
      "med_height is: [1.31788907]\n",
      "subspace_dim one is: 3\n",
      "thres is: 3.0176460880970892 mean is: 1.2086675930994715 std is: 0.6029928316658726\n",
      "outlier indices are: []\n"
     ]
    },
    {
     "name": "stderr",
     "output_type": "stream",
     "text": [
      "/home/wanxinli/.local/lib/python3.9/site-packages/sklearn/manifold/_mds.py:299: FutureWarning: The default value of `normalized_stress` will change to `'auto'` in version 1.4. To suppress this warning, manually set the value of `normalized_stress`.\n",
      "  warnings.warn(\n"
     ]
    },
    {
     "name": "stdout",
     "output_type": "stream",
     "text": [
      "outliet_indices is: []\n",
      "subspace dimension is: (330, 330)\n"
     ]
    }
   ],
   "source": [
    "\"\"\" \n",
    "Run\n",
    "(1) NB normalization + nSimplices (without correction) + cMDS \n",
    "(2) QE normalization + nSimplices (without correction) + cMDS \n",
    "\n",
    "To derive the axes data\n",
    "\"\"\" \n",
    "\n",
    "output_files = [\"hmp_target_NB_nSimplices_cMDS_no_correct_axes.txt\", \"hmp_target_QE_nSimplices_cMDS_no_correct_axes.txt\"]\n",
    "data_files = [\"hmp_v13lqphylotypeQuantNB_target_rs_c.csv\", \"hmp_v13lqphylotypeQuantE_target_rs_c.csv\"]\n",
    "subspace_dims = []\n",
    "for i in range(len(output_files)):\n",
    "    output_file = output_files[i]\n",
    "    data_file = data_files[i]\n",
    "    axes_output_path = os.path.join(output_dir, output_file)\n",
    "    print(\"======== NB/QE normalization + nSimplices + cMDS ========\")\n",
    "    data_path = os.path.join(data_dir, data_file)\n",
    "    df_hmp = np.loadtxt(data_path, delimiter=\",\")\n",
    "    hmp_dis_sq=squareform(pdist(df_hmp))\n",
    "\n",
    "    # feature_num = 11\n",
    "    dim_start = 3\n",
    "    dim_end = 3\n",
    "\n",
    "    print(\"hmp_dis_sq shape is:\", hmp_dis_sq.shape)\n",
    "    outlier_indices, subspace_dim , corr_pairwise_dis, corr_coord = nsimplices(hmp_dis_sq, feature_num, dim_start, dim_end, correct=False)\n",
    "    print(\"corr_pairwise_dis shape is:\", corr_pairwise_dis.shape)\n",
    "    subspace_dims.append(subspace_dim)\n",
    "\n",
    "    # run cMDS to get the corrected coordinates in importance decreasing order\n",
    "    _, _, Xe = cMDS(corr_pairwise_dis)\n",
    "    np.savetxt(axes_output_path, Xe, fmt='%f')"
   ]
  },
  {
   "cell_type": "code",
   "execution_count": 9,
   "metadata": {},
   "outputs": [
    {
     "name": "stdout",
     "output_type": "stream",
     "text": [
      "======== plot pairwise 2D plot (subset) ========\n",
      "(330, 162)\n",
      "======== plot pairwise 2D plot (subset) ========\n",
      "(330, 161)\n"
     ]
    }
   ],
   "source": [
    "\"\"\" \n",
    "Plot pairwise result (nSimplices without correction)\n",
    "\"\"\"\n",
    "\n",
    "figure_files = [\"hmp_target_NB_nSimplices_cMDS_no_correct.png\", \"hmp_target_QE_nSimplices_cMDS_no_correct.png\"]\n",
    "axes_files = [\"hmp_target_NB_nSimplices_cMDS_no_correct_axes.txt\", \"hmp_target_QE_nSimplices_cMDS_no_correct_axes.txt\"]\n",
    "titles = [\"NB+nSimplices (no correction)\", \"QuantE+nSimplices (no correction)\"]\n",
    "num_axes = 3 # show pairwise 2D plot to decompose the 3D plot\n",
    "\n",
    "for i in range(len(figure_files)):\n",
    "    figure_file = figure_files[i]\n",
    "    axes_file = axes_files[i]\n",
    "    title = titles[i]\n",
    "\n",
    "    print(\"======== plot pairwise 2D plot (subset) ========\")\n",
    "    Xe = np.loadtxt(os.path.join(output_dir, axes_file))\n",
    "    print(Xe.shape)\n",
    "    for first_dim in range(num_axes):\n",
    "        for second_dim in range(first_dim+1, num_axes):\n",
    "            plt.figure()\n",
    "            # only plot stool (blue), ears (black), throat (pink) points \n",
    "\n",
    "            stool_indices = [i for i, e in enumerate(colors) if e == 'cornflowerblue']\n",
    "            ears_indices = [i for i, e in enumerate(colors) if e == 'orange']\n",
    "\n",
    "            plt.scatter(Xe[stool_indices, second_dim], \\\n",
    "                Xe[stool_indices, first_dim], s=5, c='cornflowerblue', label = \"STOOL\")\n",
    "            plt.scatter(Xe[ears_indices, second_dim], \\\n",
    "                Xe[ears_indices, first_dim], s=5, c='orange', label = \"VAGINA\")\n",
    "\n",
    "\n",
    "            # for i in range(Xe.shape[0]):\n",
    "            #     plt.scatter(Xe[i, second_dim], Xe[i, first_dim], s=5, c=colors[i])\n",
    "            plt.legend()\n",
    "            plt.title(title, size=10)   \n",
    "            plt.savefig(os.path.join(output_dir, figure_file[:-4]+\"_\"+str(first_dim)+\"_\"+str(second_dim)+\".png\"))\n",
    "            "
   ]
  },
  {
   "cell_type": "code",
   "execution_count": null,
   "metadata": {},
   "outputs": [],
   "source": []
  }
 ],
 "metadata": {
  "kernelspec": {
   "display_name": "Python 3",
   "language": "python",
   "name": "python3"
  },
  "language_info": {
   "codemirror_mode": {
    "name": "ipython",
    "version": 3
   },
   "file_extension": ".py",
   "mimetype": "text/x-python",
   "name": "python",
   "nbconvert_exporter": "python",
   "pygments_lexer": "ipython3",
   "version": "3.9.5"
  },
  "orig_nbformat": 4,
  "vscode": {
   "interpreter": {
    "hash": "f9f85f796d01129d0dd105a088854619f454435301f6ffec2fea96ecbd9be4ac"
   }
  }
 },
 "nbformat": 4,
 "nbformat_minor": 2
}
